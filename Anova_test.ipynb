{
 "cells": [
  {
   "cell_type": "code",
   "execution_count": 1,
   "id": "cc661c8d-6cfe-43f7-b5fb-07e9d0e48890",
   "metadata": {},
   "outputs": [],
   "source": [
    "import pandas as pd\n",
    "import numpy as np\n",
    "import scipy.stats as stats\n",
    "import matplotlib.pyplot as plt\n",
    "import seaborn as sns\n",
    "\n"
   ]
  },
  {
   "cell_type": "code",
   "execution_count": 2,
   "id": "51f6e958-e40e-4f31-9255-babec03bbd8b",
   "metadata": {},
   "outputs": [],
   "source": [
    "# Load your dataset\n",
    "df_chicago = pd.read_csv('~/desktop/Project_7/Chicago.csv')\n",
    "df_san_diego = pd.read_csv('~/desktop/Project_7/San Diego.csv')\n",
    "df_san_francisco = pd.read_csv('~/desktop/Project_7/San Francisco.csv')\n",
    "df_new_york = pd.read_csv('~/desktop/Project_7/New York.csv')\n",
    "df_los_angeles = pd.read_csv('~/desktop/Project_7/Los Angeles.csv')\n"
   ]
  },
  {
   "cell_type": "code",
   "execution_count": 3,
   "id": "9c3385bb-202a-4d3a-902b-0657e03a410d",
   "metadata": {},
   "outputs": [],
   "source": [
    "df_combined = pd.concat([df_chicago, df_los_angeles, df_new_york, df_san_diego, df_san_francisco], ignore_index=True)\n"
   ]
  },
  {
   "cell_type": "code",
   "execution_count": 24,
   "id": "272baba1-43b8-4601-8718-93952cb3b5ad",
   "metadata": {},
   "outputs": [
    {
     "name": "stdout",
     "output_type": "stream",
     "text": [
      "ANOVA Test Results:\n",
      "F-statistic: 2.5140\n",
      "P-value: 1.7893824507461079e-16\n"
     ]
    }
   ],
   "source": [
    "\n",
    "# Create a list of rating groups based on food type\n",
    "rating_groups = []\n",
    "for name, group in df_combined.groupby('food_type'):\n",
    "    rating_groups.append(group['rating'].values)  # Append ratings for each food type\n",
    "\n",
    "# Perform the ANOVA test\n",
    "anova_results = stats.f_oneway(*rating_groups)  # Unpack the list for the test\n",
    "\n",
    "# Print the results in a simple format\n",
    "print('ANOVA Test Results:')\n",
    "print(f'F-statistic: {anova_results.statistic:.4f}')\n",
    "print(f'P-value: {anova_results.pvalue:}')\n",
    "\n"
   ]
  },
  {
   "cell_type": "code",
   "execution_count": 35,
   "id": "bdf87547-6db3-4472-894b-525a79efc706",
   "metadata": {},
   "outputs": [
    {
     "name": "stdout",
     "output_type": "stream",
     "text": [
      "ANOVA Test Results for Ratings Based on Ambience:\n",
      "F-statistic: 141.9196\n",
      "P-value: 0.00\n"
     ]
    }
   ],
   "source": [
    "# Create a list of rating groups based on ambience levels\n",
    "ambience_groups = []\n",
    "for name, group in df_combined.groupby('ambience'):\n",
    "    ambience_groups.append(group['rating'].values)  # Append ratings for each ambience level\n",
    "\n",
    "# Perform the ANOVA test\n",
    "anova_results = stats.f_oneway(*ambience_groups)  # Unpack the list for the test\n",
    "\n",
    "# Print the results in a simple format\n",
    "print('ANOVA Test Results for Ratings Based on Ambience:')\n",
    "print(f'F-statistic: {anova_results.statistic:.4f}')\n",
    "print(f'P-value: {anova_results.pvalue:.2f}')\n"
   ]
  },
  {
   "cell_type": "code",
   "execution_count": 9,
   "id": "c9d2298f-bbac-4ce9-ba02-9d66219637cf",
   "metadata": {},
   "outputs": [
    {
     "name": "stdout",
     "output_type": "stream",
     "text": [
      "Example 5 - F-statistic: 10.1935, p-value: 0.0017\n"
     ]
    }
   ],
   "source": [
    "# ANOVA for Ratings Based on Food Type with Specific Categories\n",
    "filtered_data = df_combined[df_combined['food_type'].isin(['Steakhouse', 'Mexican'])]\n",
    "\n",
    "anova_results = stats.f_oneway(\n",
    "    *[group['rating'].values for name, group in filtered_data.groupby('food_type')]\n",
    ")\n",
    "\n",
    "f_statistic = anova_results.statistic\n",
    "p_value = anova_results.pvalue\n",
    "\n",
    "print(f'Example 5 - F-statistic: {f_statistic:.4f}, p-value: {p_value:.4f}')\n"
   ]
  },
  {
   "cell_type": "code",
   "execution_count": 10,
   "id": "f0a94d4e-7f91-467e-86e0-843798c74b87",
   "metadata": {},
   "outputs": [
    {
     "name": "stdout",
     "output_type": "stream",
     "text": [
      "Example 2 - F-statistic: 37.2537, p-value: 1.318109554608294e-16\n"
     ]
    }
   ],
   "source": [
    "# ANOVA for Ratings Based on Coupon Availability\n",
    "anova_results = stats.f_oneway(\n",
    "    *[group['rating'].values for name, group in df_combined.groupby('coupon')]\n",
    ")\n",
    "\n",
    "f_statistic = anova_results.statistic\n",
    "p_value = anova_results.pvalue\n",
    "\n",
    "print(f'Example 2 - F-statistic: {f_statistic:.4f}, p-value: {p_value}')\n"
   ]
  },
  {
   "cell_type": "code",
   "execution_count": 11,
   "id": "94ce271d-134f-4ffe-bfef-f5a7aaab4b57",
   "metadata": {},
   "outputs": [
    {
     "name": "stdout",
     "output_type": "stream",
     "text": [
      "Example 4 - F-statistic: 2.5140, p-value: 0.0000\n"
     ]
    }
   ],
   "source": [
    "# ANOVA for Ratings Based on Food Types\n",
    "anova_results = stats.f_oneway(\n",
    "    *[group['rating'].values for name, group in df_combined.groupby('food_type')]\n",
    ")\n",
    "\n",
    "f_statistic = anova_results.statistic\n",
    "p_value = anova_results.pvalue\n",
    "\n",
    "print(f'Example 4 - F-statistic: {f_statistic:.4f}, p-value: {p_value:.4f}')\n"
   ]
  },
  {
   "cell_type": "code",
   "execution_count": 33,
   "id": "84595aa4-adbb-4a5d-8d13-4326a1344f65",
   "metadata": {},
   "outputs": [
    {
     "name": "stdout",
     "output_type": "stream",
     "text": [
      "\n",
      "Example 1 ANOVA Table:\n",
      "                 sum_sq      df          F        PR(>F)\n",
      "C(service)    26.046130    12.0  30.369555  7.145581e-64\n",
      "C(ambience)    7.514995    11.0   9.559000  5.936407e-17\n",
      "Residual     127.002115  1777.0        NaN           NaN\n"
     ]
    }
   ],
   "source": [
    "# Example 1: ANOVA for Service and Ambience on Value\n",
    "model1 = ols('value ~ C(service) + C(ambience)', data=filtered_df).fit()\n",
    "anova_table1 = sm.stats.anova_lm(model1, typ=2)\n",
    "print(\"\\nExample 1 ANOVA Table:\")\n",
    "print(anova_table1)"
   ]
  },
  {
   "cell_type": "code",
   "execution_count": 34,
   "id": "9b138d65-a53e-420d-af8c-d4c6205baaa6",
   "metadata": {},
   "outputs": [
    {
     "name": "stdout",
     "output_type": "stream",
     "text": [
      "\n",
      "Example 2 ANOVA Table:\n",
      "                 sum_sq      df           F        PR(>F)\n",
      "C(food_type)   2.986465   123.0    1.805426  4.589348e-07\n",
      "C(service)    53.960718    12.0  334.367272  0.000000e+00\n",
      "Residual      22.391694  1665.0         NaN           NaN\n"
     ]
    }
   ],
   "source": [
    "# Example 2: ANOVA for Food Type and Service on Rating\n",
    "model2 = ols('rating ~ C(food_type) + C(service)', data=filtered_df).fit()\n",
    "anova_table2 = sm.stats.anova_lm(model2, typ=2)\n",
    "print(\"\\nExample 2 ANOVA Table:\")\n",
    "print(anova_table2)"
   ]
  },
  {
   "cell_type": "code",
   "execution_count": 35,
   "id": "62d410f0-e846-4cef-bf82-e7569309eba0",
   "metadata": {},
   "outputs": [
    {
     "name": "stdout",
     "output_type": "stream",
     "text": [
      "\n",
      "Example 3 ANOVA Table:\n",
      "                   sum_sq      df         F        PR(>F)\n",
      "C(ambience)  3.559376e+08    11.0  7.199231  4.177373e-12\n",
      "C(value)     2.427187e+08    29.0  1.862131  3.599364e-03\n",
      "Residual     7.910568e+09  1760.0       NaN           NaN\n"
     ]
    }
   ],
   "source": [
    "# Example 3: ANOVA for Ambience and Value on Number of Reviews\n",
    "model3 = ols('number_of_reviews ~ C(ambience) + C(value)', data=filtered_df).fit()\n",
    "anova_table3 = sm.stats.anova_lm(model3, typ=2)\n",
    "print(\"\\nExample 3 ANOVA Table:\")\n",
    "print(anova_table3)"
   ]
  },
  {
   "cell_type": "code",
   "execution_count": 36,
   "id": "8218f513-114d-4768-be1f-363ec087fa3b",
   "metadata": {},
   "outputs": [
    {
     "name": "stdout",
     "output_type": "stream",
     "text": [
      "\n",
      "Example 4 ANOVA Table:\n",
      "                  sum_sq      df          F         PR(>F)\n",
      "C(service)     67.596770    12.0  84.196033  8.974047e-162\n",
      "C(food_type)   23.121697   123.0   2.809710   3.512068e-20\n",
      "Residual      111.395413  1665.0        NaN            NaN\n"
     ]
    }
   ],
   "source": [
    "# Example 4: ANOVA for Service and Food Type on Value\n",
    "model4 = ols('value ~ C(service) + C(food_type)', data=filtered_df).fit()\n",
    "anova_table4 = sm.stats.anova_lm(model4, typ=2)\n",
    "print(\"\\nExample 4 ANOVA Table:\")\n",
    "print(anova_table4)"
   ]
  },
  {
   "cell_type": "code",
   "execution_count": 37,
   "id": "4c4a1c23-e240-45d0-a587-db6e92f5e446",
   "metadata": {},
   "outputs": [
    {
     "name": "stdout",
     "output_type": "stream",
     "text": [
      "\n",
      "Example 5 ANOVA Table:\n",
      "                 sum_sq      df           F         PR(>F)\n",
      "C(ambience)   42.939038    11.0  194.632021  2.196436e-289\n",
      "C(food_type)   7.715504   123.0    3.127619   7.367369e-25\n",
      "Residual      33.413374  1666.0         NaN            NaN\n"
     ]
    }
   ],
   "source": [
    "# Example 5: ANOVA for Ambience and Food Type on Rating\n",
    "model5 = ols('rating ~ C(ambience) + C(food_type)', data=filtered_df).fit()\n",
    "anova_table5 = sm.stats.anova_lm(model5, typ=2)\n",
    "print(\"\\nExample 5 ANOVA Table:\")\n",
    "print(anova_table5)"
   ]
  },
  {
   "cell_type": "code",
   "execution_count": 38,
   "id": "071ef61e-0f0a-4616-88d0-2f1336cda746",
   "metadata": {},
   "outputs": [
    {
     "name": "stdout",
     "output_type": "stream",
     "text": [
      "\n",
      "Example 5 ANOVA Table (Service, Ambience, and Coupon on Value):\n",
      "                 sum_sq      df          F        PR(>F)\n",
      "C(service)    25.469349    12.0  31.449037  3.947985e-66\n",
      "C(ambience)    9.148411    11.0  12.323207  1.114217e-22\n",
      "C(coupon)      7.210173     2.0  53.417855  2.966734e-23\n",
      "Residual     119.791942  1775.0        NaN           NaN\n"
     ]
    }
   ],
   "source": [
    "# Example 5: ANOVA for Service, Ambience, and Coupon on Value\n",
    "model5 = ols('value ~ C(service) + C(ambience) + C(coupon)', data=filtered_df).fit()\n",
    "anova_table5 = sm.stats.anova_lm(model5, typ=2)\n",
    "print(\"\\nExample 5 ANOVA Table (Service, Ambience, and Coupon on Value):\")\n",
    "print(anova_table5)\n"
   ]
  },
  {
   "cell_type": "code",
   "execution_count": 40,
   "id": "a64f3262-e001-41ac-9e00-e1df14b7c65b",
   "metadata": {},
   "outputs": [
    {
     "name": "stdout",
     "output_type": "stream",
     "text": [
      "\n",
      "Chicago - Example 1 ANOVA Table (Service and Ambience on Value):\n",
      "                sum_sq     df         F        PR(>F)\n",
      "C(service)   11.769826   16.0  7.372607  2.069886e-14\n",
      "C(ambience)  11.949755   18.0  6.653613  6.687553e-14\n",
      "Residual     28.735681  288.0       NaN           NaN\n"
     ]
    }
   ],
   "source": [
    "# Example 1: ANOVA for Service and Ambience on Value\n",
    "model1 = ols('value ~ C(service) + C(ambience)', data=df_chicago).fit()\n",
    "anova_table1 = sm.stats.anova_lm(model1, typ=2)\n",
    "print(\"\\nChicago - Example 1 ANOVA Table (Service and Ambience on Value):\")\n",
    "print(anova_table1)"
   ]
  },
  {
   "cell_type": "code",
   "execution_count": 41,
   "id": "253b7714-8946-4219-bf87-e252319de8cb",
   "metadata": {},
   "outputs": [
    {
     "name": "stdout",
     "output_type": "stream",
     "text": [
      "\n",
      "Chicago - Example 2 ANOVA Table (Service and Ambience on Number of Reviews):\n",
      "                   sum_sq     df         F    PR(>F)\n",
      "C(service)   3.630226e+07   16.0  0.540500  0.924258\n",
      "C(ambience)  3.094509e+07   18.0  0.409544  0.985419\n",
      "Residual     1.208957e+09  288.0       NaN       NaN\n"
     ]
    }
   ],
   "source": [
    "# Example 2: ANOVA for Service and Ambience on Number of Reviews\n",
    "model2 = ols('number_of_reviews ~ C(service) + C(ambience)', data=df_chicago).fit()\n",
    "anova_table2 = sm.stats.anova_lm(model2, typ=2)\n",
    "print(\"\\nChicago - Example 2 ANOVA Table (Service and Ambience on Number of Reviews):\")\n",
    "print(anova_table2)"
   ]
  },
  {
   "cell_type": "code",
   "execution_count": 42,
   "id": "0767ad0b-6bfc-4971-835f-205d2c4e0c2c",
   "metadata": {},
   "outputs": [
    {
     "name": "stdout",
     "output_type": "stream",
     "text": [
      "\n",
      "New York - Example 5 ANOVA Table (Service and Ambience on Value):\n",
      "               sum_sq     df          F        PR(>F)\n",
      "C(service)   5.622045   12.0  14.383200  1.062706e-23\n",
      "C(ambience)  0.726016   11.0   2.026264  2.577589e-02\n",
      "Residual     9.869613  303.0        NaN           NaN\n"
     ]
    }
   ],
   "source": [
    "# Example 5: ANOVA for Service and Ambience on Value\n",
    "model5 = ols('value ~ C(service) + C(ambience)', data=df_new_york).fit()\n",
    "anova_table5 = sm.stats.anova_lm(model5, typ=2)\n",
    "print(\"\\nNew York - Example 5 ANOVA Table (Service and Ambience on Value):\")\n",
    "print(anova_table5)"
   ]
  },
  {
   "cell_type": "code",
   "execution_count": 43,
   "id": "3d99348c-9ee6-47d0-8989-c6cb2dfd545d",
   "metadata": {},
   "outputs": [
    {
     "name": "stdout",
     "output_type": "stream",
     "text": [
      "\n",
      "San Diego - Example 8 ANOVA Table (Service and Ambience on Number of Reviews):\n",
      "                   sum_sq     df         F    PR(>F)\n",
      "C(service)   5.022096e+07   15.0  1.251098  0.234949\n",
      "C(ambience)  1.083611e+08   17.0  2.381892  0.002079\n",
      "Residual     6.288838e+08  235.0       NaN       NaN\n"
     ]
    }
   ],
   "source": [
    "# Example 8: ANOVA for Service and Ambience on Number of Reviews\n",
    "model8 = ols('number_of_reviews ~ C(service) + C(ambience)', data=df_san_diego).fit()\n",
    "anova_table8 = sm.stats.anova_lm(model8, typ=2)\n",
    "print(\"\\nSan Diego - Example 8 ANOVA Table (Service and Ambience on Number of Reviews):\")\n",
    "print(anova_table8)"
   ]
  },
  {
   "cell_type": "code",
   "execution_count": 44,
   "id": "f4c3bbd1-0999-44f4-8fea-7b2f5225f1ca",
   "metadata": {},
   "outputs": [
    {
     "name": "stdout",
     "output_type": "stream",
     "text": [
      "\n",
      "San Francisco - Example 9 ANOVA Table (Service and Ambience on Value):\n",
      "                sum_sq     df          F        PR(>F)\n",
      "C(service)   37.057648   22.0  14.914020  2.349390e-46\n",
      "C(ambience)  29.542486   22.0  11.889508  1.798093e-36\n",
      "Residual     91.597012  811.0        NaN           NaN\n"
     ]
    }
   ],
   "source": [
    "# Example 9: ANOVA for Service and Ambience on Value\n",
    "model9 = ols('value ~ C(service) + C(ambience)', data=df_san_francisco).fit()\n",
    "anova_table9 = sm.stats.anova_lm(model9, typ=2)\n",
    "print(\"\\nSan Francisco - Example 9 ANOVA Table (Service and Ambience on Value):\")\n",
    "print(anova_table9)\n"
   ]
  },
  {
   "cell_type": "code",
   "execution_count": 45,
   "id": "24c74b8a-52c7-4685-aea3-26731f2b90ec",
   "metadata": {},
   "outputs": [
    {
     "name": "stdout",
     "output_type": "stream",
     "text": [
      "\n",
      "San Francisco - Example 10 ANOVA Table (Service and Ambience on Number of Reviews):\n",
      "                   sum_sq     df         F    PR(>F)\n",
      "C(service)   6.103860e+07   22.0  1.245621  0.200731\n",
      "C(ambience)  1.552839e+08   22.0  3.168896  0.000002\n",
      "Residual     1.806412e+09  811.0       NaN       NaN\n"
     ]
    }
   ],
   "source": [
    "# Example 10: ANOVA for Service and Ambience on Number of Reviews\n",
    "model10 = ols('number_of_reviews ~ C(service) + C(ambience)', data=df_san_francisco).fit()\n",
    "anova_table10 = sm.stats.anova_lm(model10, typ=2)\n",
    "print(\"\\nSan Francisco - Example 10 ANOVA Table (Service and Ambience on Number of Reviews):\")\n",
    "print(anova_table10)"
   ]
  },
  {
   "cell_type": "code",
   "execution_count": null,
   "id": "031d95b1-88b0-4a92-8698-028afcecfe12",
   "metadata": {},
   "outputs": [],
   "source": []
  }
 ],
 "metadata": {
  "kernelspec": {
   "display_name": "venv",
   "language": "python",
   "name": "venv"
  },
  "language_info": {
   "codemirror_mode": {
    "name": "ipython",
    "version": 3
   },
   "file_extension": ".py",
   "mimetype": "text/x-python",
   "name": "python",
   "nbconvert_exporter": "python",
   "pygments_lexer": "ipython3",
   "version": "3.12.4"
  }
 },
 "nbformat": 4,
 "nbformat_minor": 5
}
