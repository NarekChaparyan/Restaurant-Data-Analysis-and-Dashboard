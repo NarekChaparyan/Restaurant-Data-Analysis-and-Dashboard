{
 "cells": [
  {
   "cell_type": "code",
   "execution_count": 39,
   "id": "eea29564-b1a0-43eb-90aa-770e620ae112",
   "metadata": {},
   "outputs": [
    {
     "name": "stdout",
     "output_type": "stream",
     "text": [
      "Column Names and Data Types:\n",
      "url                   object\n",
      "rest_name             object\n",
      "number_of_reviews      int64\n",
      "rating               float64\n",
      "food_type             object\n",
      "coupon                object\n",
      "food                 float64\n",
      "service              float64\n",
      "ambience             float64\n",
      "value                float64\n",
      "about_rest            object\n",
      "comments              object\n",
      "image_url             object\n",
      "City                  object\n",
      "dtype: object\n"
     ]
    }
   ],
   "source": [
    "import pandas as pd\n",
    "# Read the CSV file\n",
    "df = pd.read_csv('~/desktop/Project_7/San Francisco.csv')\n",
    "\n",
    "# Print column names and their data types\n",
    "print(\"Column Names and Data Types:\")\n",
    "print(df.dtypes)"
   ]
  },
  {
   "cell_type": "code",
   "execution_count": 40,
   "id": "49cac0b9-6460-443f-85fa-6a5c6b90959f",
   "metadata": {},
   "outputs": [
    {
     "name": "stdout",
     "output_type": "stream",
     "text": [
      "Number of Empty Cells in Each Column:\n",
      "url                  0\n",
      "rest_name            0\n",
      "number_of_reviews    0\n",
      "rating               0\n",
      "food_type            0\n",
      "coupon               0\n",
      "food                 0\n",
      "service              0\n",
      "ambience             0\n",
      "value                0\n",
      "about_rest           0\n",
      "comments             0\n",
      "image_url            0\n",
      "City                 0\n",
      "dtype: int64\n"
     ]
    }
   ],
   "source": [
    "# Check for empty cells\n",
    "empty_cells = df.isna().sum()\n",
    "\n",
    "# Print the number of empty cells for each column\n",
    "print(\"Number of Empty Cells in Each Column:\")\n",
    "print(empty_cells)"
   ]
  },
  {
   "cell_type": "code",
   "execution_count": 41,
   "id": "347efacf-f881-4146-a688-ce915d26c114",
   "metadata": {},
   "outputs": [
    {
     "data": {
      "text/plain": [
       "url                  0\n",
       "rest_name            0\n",
       "number_of_reviews    0\n",
       "rating               0\n",
       "food_type            0\n",
       "coupon               0\n",
       "food                 0\n",
       "service              0\n",
       "ambience             0\n",
       "value                0\n",
       "about_rest           0\n",
       "comments             0\n",
       "image_url            0\n",
       "City                 0\n",
       "dtype: int64"
      ]
     },
     "execution_count": 41,
     "metadata": {},
     "output_type": "execute_result"
    }
   ],
   "source": [
    "def is_whitespace_or_empty(x):\n",
    "    return isinstance(x, str) and (x.strip() == '' or x != x.strip())\n",
    "df.map(is_whitespace_or_empty).sum()"
   ]
  },
  {
   "cell_type": "code",
   "execution_count": 42,
   "id": "fba7f965-73ce-47e6-801f-6f2e247b85d1",
   "metadata": {},
   "outputs": [
    {
     "data": {
      "text/plain": [
       "np.int64(0)"
      ]
     },
     "execution_count": 42,
     "metadata": {},
     "output_type": "execute_result"
    }
   ],
   "source": [
    "# Strip leading/trailing whitespace from all entries in the 'comments' column\n",
    "df['comments'] = df['comments'].apply(lambda x: x.strip() if isinstance(x, str) else x)\n",
    "\n",
    "# Verify if the cleaning was successful\n",
    "df['comments'].map(is_whitespace_or_empty).sum()"
   ]
  },
  {
   "cell_type": "code",
   "execution_count": 43,
   "id": "2cc474d0-5391-4e8d-a908-e861957b9a76",
   "metadata": {},
   "outputs": [
    {
     "data": {
      "text/plain": [
       "np.int64(0)"
      ]
     },
     "execution_count": 43,
     "metadata": {},
     "output_type": "execute_result"
    }
   ],
   "source": [
    "# Strip leading/trailing whitespace from all entries in the 'about' column\n",
    "df['about_rest'] = df['about_rest'].apply(lambda x: x.strip() if isinstance(x, str) else x)\n",
    "\n",
    "# Verify if the cleaning was successful\n",
    "df['about_rest'].map(is_whitespace_or_empty).sum()"
   ]
  },
  {
   "cell_type": "code",
   "execution_count": 44,
   "id": "9235db11-6f7a-4ef8-9363-ec856e37635d",
   "metadata": {},
   "outputs": [
    {
     "data": {
      "text/plain": [
       "url                  0\n",
       "rest_name            0\n",
       "number_of_reviews    0\n",
       "rating               0\n",
       "food_type            0\n",
       "coupon               0\n",
       "food                 0\n",
       "service              0\n",
       "ambience             0\n",
       "value                0\n",
       "about_rest           0\n",
       "comments             0\n",
       "image_url            0\n",
       "City                 0\n",
       "dtype: int64"
      ]
     },
     "execution_count": 44,
     "metadata": {},
     "output_type": "execute_result"
    }
   ],
   "source": [
    "df.map(is_whitespace_or_empty).sum()"
   ]
  },
  {
   "cell_type": "code",
   "execution_count": 47,
   "id": "db09a1e1-d7be-42b7-8de6-c765f5030008",
   "metadata": {},
   "outputs": [
    {
     "data": {
      "text/plain": [
       "True"
      ]
     },
     "execution_count": 47,
     "metadata": {},
     "output_type": "execute_result"
    }
   ],
   "source": [
    "df['rest_name'].is_unique\n"
   ]
  },
  {
   "cell_type": "code",
   "execution_count": 48,
   "id": "c32bded7-d68d-4fdc-aa5e-ce4dc95a65c8",
   "metadata": {},
   "outputs": [
    {
     "name": "stdout",
     "output_type": "stream",
     "text": [
      "Non-unique restaurant names:\n",
      "[]\n"
     ]
    }
   ],
   "source": [
    "duplicates = df['rest_name'][df['rest_name'].duplicated()].unique()\n",
    "print(\"Non-unique restaurant names:\")\n",
    "print(duplicates)\n"
   ]
  },
  {
   "cell_type": "code",
   "execution_count": 49,
   "id": "c673ae89-c775-47c4-b6ca-d6b6f4f18331",
   "metadata": {},
   "outputs": [],
   "source": [
    "df = df.drop_duplicates(subset=['rest_name'], keep='first')\n"
   ]
  },
  {
   "cell_type": "code",
   "execution_count": 50,
   "id": "a5a85f13-4581-48d5-90c9-f910e93c98c0",
   "metadata": {},
   "outputs": [
    {
     "data": {
      "text/html": [
       "<div>\n",
       "<style scoped>\n",
       "    .dataframe tbody tr th:only-of-type {\n",
       "        vertical-align: middle;\n",
       "    }\n",
       "\n",
       "    .dataframe tbody tr th {\n",
       "        vertical-align: top;\n",
       "    }\n",
       "\n",
       "    .dataframe thead th {\n",
       "        text-align: right;\n",
       "    }\n",
       "</style>\n",
       "<table border=\"1\" class=\"dataframe\">\n",
       "  <thead>\n",
       "    <tr style=\"text-align: right;\">\n",
       "      <th></th>\n",
       "      <th>url</th>\n",
       "      <th>rest_name</th>\n",
       "      <th>number_of_reviews</th>\n",
       "      <th>rating</th>\n",
       "      <th>food_type</th>\n",
       "      <th>coupon</th>\n",
       "      <th>food</th>\n",
       "      <th>service</th>\n",
       "      <th>ambience</th>\n",
       "      <th>value</th>\n",
       "      <th>about_rest</th>\n",
       "      <th>comments</th>\n",
       "      <th>image_url</th>\n",
       "      <th>City</th>\n",
       "    </tr>\n",
       "  </thead>\n",
       "  <tbody>\n",
       "    <tr>\n",
       "      <th>0</th>\n",
       "      <td>https://www.opentable.com/r/china-live-san-fra...</td>\n",
       "      <td>China Live</td>\n",
       "      <td>3135</td>\n",
       "      <td>4.7</td>\n",
       "      <td>Chinese</td>\n",
       "      <td>$30 and under</td>\n",
       "      <td>4.7</td>\n",
       "      <td>4.6</td>\n",
       "      <td>4.6</td>\n",
       "      <td>4.3</td>\n",
       "      <td>China Live, Eater's \"Restaurant of the Year,\" ...</td>\n",
       "      <td>Fantastic food, drinks, and service! Will defi...</td>\n",
       "      <td>https://resizer.otstatic.com/v2/photos/xlarge/...</td>\n",
       "      <td>San Francisco</td>\n",
       "    </tr>\n",
       "    <tr>\n",
       "      <th>1</th>\n",
       "      <td>https://www.opentable.com/r/bardo-lounge-and-s...</td>\n",
       "      <td>Bardo Lounge &amp; Supper Club</td>\n",
       "      <td>464</td>\n",
       "      <td>4.9</td>\n",
       "      <td>Contemporary American</td>\n",
       "      <td>$31 to $50</td>\n",
       "      <td>4.7</td>\n",
       "      <td>4.8</td>\n",
       "      <td>4.8</td>\n",
       "      <td>4.4</td>\n",
       "      <td>Recommended in the MICHELIN Guide for Californ...</td>\n",
       "      <td>Read more Caeser salad was unique and deliciou...</td>\n",
       "      <td>https://resizer.otstatic.com/v2/photos/xlarge/...</td>\n",
       "      <td>San Francisco</td>\n",
       "    </tr>\n",
       "    <tr>\n",
       "      <th>2</th>\n",
       "      <td>https://www.opentable.com/r/stk-san-francisco?...</td>\n",
       "      <td>STK - San Francisco</td>\n",
       "      <td>1178</td>\n",
       "      <td>4.0</td>\n",
       "      <td>Steakhouse</td>\n",
       "      <td>$50 and over</td>\n",
       "      <td>4.0</td>\n",
       "      <td>4.0</td>\n",
       "      <td>4.2</td>\n",
       "      <td>3.5</td>\n",
       "      <td>STK Steakhouse is “not your daddy’s steakhouse...</td>\n",
       "      <td>Read more Overpriced. Pay close attention when...</td>\n",
       "      <td>https://resizer.otstatic.com/v2/photos/xlarge/...</td>\n",
       "      <td>San Francisco</td>\n",
       "    </tr>\n",
       "    <tr>\n",
       "      <th>3</th>\n",
       "      <td>https://www.opentable.com/r/waterbar-san-franc...</td>\n",
       "      <td>Waterbar</td>\n",
       "      <td>10819</td>\n",
       "      <td>4.6</td>\n",
       "      <td>Seafood</td>\n",
       "      <td>$31 to $50</td>\n",
       "      <td>4.5</td>\n",
       "      <td>4.6</td>\n",
       "      <td>4.7</td>\n",
       "      <td>4.1</td>\n",
       "      <td>Waterbar is a seafood-centric restaurant locat...</td>\n",
       "      <td>Read more Had a lovely lunch at one of our fav...</td>\n",
       "      <td>https://resizer.otstatic.com/v2/photos/xlarge/...</td>\n",
       "      <td>San Francisco</td>\n",
       "    </tr>\n",
       "    <tr>\n",
       "      <th>4</th>\n",
       "      <td>https://www.opentable.com/yoshis-oakland?corri...</td>\n",
       "      <td>Yoshi's Oakland</td>\n",
       "      <td>8163</td>\n",
       "      <td>4.7</td>\n",
       "      <td>Japanese</td>\n",
       "      <td>$30 and under</td>\n",
       "      <td>4.6</td>\n",
       "      <td>4.7</td>\n",
       "      <td>4.6</td>\n",
       "      <td>4.3</td>\n",
       "      <td>Yoshi's has served Japan's best traditional di...</td>\n",
       "      <td>Read more I love coming to see artist at this ...</td>\n",
       "      <td>https://resizer.otstatic.com/v2/photos/xlarge/...</td>\n",
       "      <td>San Francisco</td>\n",
       "    </tr>\n",
       "    <tr>\n",
       "      <th>...</th>\n",
       "      <td>...</td>\n",
       "      <td>...</td>\n",
       "      <td>...</td>\n",
       "      <td>...</td>\n",
       "      <td>...</td>\n",
       "      <td>...</td>\n",
       "      <td>...</td>\n",
       "      <td>...</td>\n",
       "      <td>...</td>\n",
       "      <td>...</td>\n",
       "      <td>...</td>\n",
       "      <td>...</td>\n",
       "      <td>...</td>\n",
       "      <td>...</td>\n",
       "    </tr>\n",
       "    <tr>\n",
       "      <th>753</th>\n",
       "      <td>https://www.opentable.com/r/per-diem-transit-c...</td>\n",
       "      <td>Per Diem - Transit Center</td>\n",
       "      <td>67</td>\n",
       "      <td>4.7</td>\n",
       "      <td>Californian</td>\n",
       "      <td>$30 and under</td>\n",
       "      <td>4.7</td>\n",
       "      <td>4.5</td>\n",
       "      <td>4.5</td>\n",
       "      <td>4.3</td>\n",
       "      <td>The newest addition of Per Diem in San Francis...</td>\n",
       "      <td>Read more Booked this restaurant for my execut...</td>\n",
       "      <td>https://resizer.otstatic.com/v2/photos/xlarge/...</td>\n",
       "      <td>San Francisco</td>\n",
       "    </tr>\n",
       "    <tr>\n",
       "      <th>754</th>\n",
       "      <td>https://www.opentable.com/r/teakwood-san-franc...</td>\n",
       "      <td>Teakwood</td>\n",
       "      <td>220</td>\n",
       "      <td>4.6</td>\n",
       "      <td>Burmese</td>\n",
       "      <td>$30 and under</td>\n",
       "      <td>4.6</td>\n",
       "      <td>4.6</td>\n",
       "      <td>4.6</td>\n",
       "      <td>4.2</td>\n",
       "      <td>NOW OPEN!\\nBringing the vibrance of Burmese cu...</td>\n",
       "      <td>Always wonderful food and service. Nice atmosp...</td>\n",
       "      <td>https://resizer.otstatic.com/v2/photos/xlarge/...</td>\n",
       "      <td>San Francisco</td>\n",
       "    </tr>\n",
       "    <tr>\n",
       "      <th>755</th>\n",
       "      <td>https://www.opentable.com/sasa?corrid=dca48473...</td>\n",
       "      <td>Sasa</td>\n",
       "      <td>2203</td>\n",
       "      <td>4.7</td>\n",
       "      <td>Japanese</td>\n",
       "      <td>$31 to $50</td>\n",
       "      <td>4.7</td>\n",
       "      <td>4.6</td>\n",
       "      <td>4.6</td>\n",
       "      <td>4.1</td>\n",
       "      <td>Sasa is a Japanese inspired restaurant in Waln...</td>\n",
       "      <td>Read more Excellent experience and would defin...</td>\n",
       "      <td>https://resizer.otstatic.com/v2/photos/xlarge/...</td>\n",
       "      <td>San Francisco</td>\n",
       "    </tr>\n",
       "    <tr>\n",
       "      <th>756</th>\n",
       "      <td>https://www.opentable.com/r/bull-valley-roadho...</td>\n",
       "      <td>Bull Valley Roadhouse</td>\n",
       "      <td>2882</td>\n",
       "      <td>4.7</td>\n",
       "      <td>American</td>\n",
       "      <td>$50 and over</td>\n",
       "      <td>4.6</td>\n",
       "      <td>4.7</td>\n",
       "      <td>4.7</td>\n",
       "      <td>4.2</td>\n",
       "      <td>Old Country Road meets Bay Area Farmer's Marke...</td>\n",
       "      <td>Read more The restaurant and ambiance is super...</td>\n",
       "      <td>https://resizer.otstatic.com/v2/photos/xlarge/...</td>\n",
       "      <td>San Francisco</td>\n",
       "    </tr>\n",
       "    <tr>\n",
       "      <th>757</th>\n",
       "      <td>https://www.opentable.com/r/jaks-authentic-ind...</td>\n",
       "      <td>Jaks Authentic Indian &amp; Modern Vibe</td>\n",
       "      <td>2</td>\n",
       "      <td>4.5</td>\n",
       "      <td>Indian</td>\n",
       "      <td>$30 and under</td>\n",
       "      <td>4.5</td>\n",
       "      <td>4.6</td>\n",
       "      <td>4.2</td>\n",
       "      <td>4.0</td>\n",
       "      <td>Nestled in Santa Clara's Market Place District...</td>\n",
       "      <td>Read more Outstanding meal. The sharable plate...</td>\n",
       "      <td>https://resizer.otstatic.com/v2/photos/xlarge/...</td>\n",
       "      <td>San Francisco</td>\n",
       "    </tr>\n",
       "  </tbody>\n",
       "</table>\n",
       "<p>758 rows × 14 columns</p>\n",
       "</div>"
      ],
      "text/plain": [
       "                                                   url  \\\n",
       "0    https://www.opentable.com/r/china-live-san-fra...   \n",
       "1    https://www.opentable.com/r/bardo-lounge-and-s...   \n",
       "2    https://www.opentable.com/r/stk-san-francisco?...   \n",
       "3    https://www.opentable.com/r/waterbar-san-franc...   \n",
       "4    https://www.opentable.com/yoshis-oakland?corri...   \n",
       "..                                                 ...   \n",
       "753  https://www.opentable.com/r/per-diem-transit-c...   \n",
       "754  https://www.opentable.com/r/teakwood-san-franc...   \n",
       "755  https://www.opentable.com/sasa?corrid=dca48473...   \n",
       "756  https://www.opentable.com/r/bull-valley-roadho...   \n",
       "757  https://www.opentable.com/r/jaks-authentic-ind...   \n",
       "\n",
       "                               rest_name  number_of_reviews  rating  \\\n",
       "0                             China Live               3135     4.7   \n",
       "1             Bardo Lounge & Supper Club                464     4.9   \n",
       "2                    STK - San Francisco               1178     4.0   \n",
       "3                               Waterbar              10819     4.6   \n",
       "4                        Yoshi's Oakland               8163     4.7   \n",
       "..                                   ...                ...     ...   \n",
       "753            Per Diem - Transit Center                 67     4.7   \n",
       "754                             Teakwood                220     4.6   \n",
       "755                                 Sasa               2203     4.7   \n",
       "756                Bull Valley Roadhouse               2882     4.7   \n",
       "757  Jaks Authentic Indian & Modern Vibe                  2     4.5   \n",
       "\n",
       "                 food_type         coupon  food  service  ambience  value  \\\n",
       "0                  Chinese  $30 and under   4.7      4.6       4.6    4.3   \n",
       "1    Contemporary American     $31 to $50   4.7      4.8       4.8    4.4   \n",
       "2               Steakhouse   $50 and over   4.0      4.0       4.2    3.5   \n",
       "3                  Seafood     $31 to $50   4.5      4.6       4.7    4.1   \n",
       "4                 Japanese  $30 and under   4.6      4.7       4.6    4.3   \n",
       "..                     ...            ...   ...      ...       ...    ...   \n",
       "753            Californian  $30 and under   4.7      4.5       4.5    4.3   \n",
       "754                Burmese  $30 and under   4.6      4.6       4.6    4.2   \n",
       "755               Japanese     $31 to $50   4.7      4.6       4.6    4.1   \n",
       "756               American   $50 and over   4.6      4.7       4.7    4.2   \n",
       "757                 Indian  $30 and under   4.5      4.6       4.2    4.0   \n",
       "\n",
       "                                            about_rest  \\\n",
       "0    China Live, Eater's \"Restaurant of the Year,\" ...   \n",
       "1    Recommended in the MICHELIN Guide for Californ...   \n",
       "2    STK Steakhouse is “not your daddy’s steakhouse...   \n",
       "3    Waterbar is a seafood-centric restaurant locat...   \n",
       "4    Yoshi's has served Japan's best traditional di...   \n",
       "..                                                 ...   \n",
       "753  The newest addition of Per Diem in San Francis...   \n",
       "754  NOW OPEN!\\nBringing the vibrance of Burmese cu...   \n",
       "755  Sasa is a Japanese inspired restaurant in Waln...   \n",
       "756  Old Country Road meets Bay Area Farmer's Marke...   \n",
       "757  Nestled in Santa Clara's Market Place District...   \n",
       "\n",
       "                                              comments  \\\n",
       "0    Fantastic food, drinks, and service! Will defi...   \n",
       "1    Read more Caeser salad was unique and deliciou...   \n",
       "2    Read more Overpriced. Pay close attention when...   \n",
       "3    Read more Had a lovely lunch at one of our fav...   \n",
       "4    Read more I love coming to see artist at this ...   \n",
       "..                                                 ...   \n",
       "753  Read more Booked this restaurant for my execut...   \n",
       "754  Always wonderful food and service. Nice atmosp...   \n",
       "755  Read more Excellent experience and would defin...   \n",
       "756  Read more The restaurant and ambiance is super...   \n",
       "757  Read more Outstanding meal. The sharable plate...   \n",
       "\n",
       "                                             image_url           City  \n",
       "0    https://resizer.otstatic.com/v2/photos/xlarge/...  San Francisco  \n",
       "1    https://resizer.otstatic.com/v2/photos/xlarge/...  San Francisco  \n",
       "2    https://resizer.otstatic.com/v2/photos/xlarge/...  San Francisco  \n",
       "3    https://resizer.otstatic.com/v2/photos/xlarge/...  San Francisco  \n",
       "4    https://resizer.otstatic.com/v2/photos/xlarge/...  San Francisco  \n",
       "..                                                 ...            ...  \n",
       "753  https://resizer.otstatic.com/v2/photos/xlarge/...  San Francisco  \n",
       "754  https://resizer.otstatic.com/v2/photos/xlarge/...  San Francisco  \n",
       "755  https://resizer.otstatic.com/v2/photos/xlarge/...  San Francisco  \n",
       "756  https://resizer.otstatic.com/v2/photos/xlarge/...  San Francisco  \n",
       "757  https://resizer.otstatic.com/v2/photos/xlarge/...  San Francisco  \n",
       "\n",
       "[758 rows x 14 columns]"
      ]
     },
     "execution_count": 50,
     "metadata": {},
     "output_type": "execute_result"
    }
   ],
   "source": [
    "df"
   ]
  },
  {
   "cell_type": "code",
   "execution_count": 51,
   "id": "c8fb165c-93a8-4990-9dcb-cca518d7ef6e",
   "metadata": {},
   "outputs": [
    {
     "ename": "NameError",
     "evalue": "name 'np' is not defined",
     "output_type": "error",
     "traceback": [
      "\u001b[0;31m---------------------------------------------------------------------------\u001b[0m",
      "\u001b[0;31mNameError\u001b[0m                                 Traceback (most recent call last)",
      "Cell \u001b[0;32mIn[51], line 3\u001b[0m\n\u001b[1;32m      1\u001b[0m \u001b[38;5;66;03m# Replace specific unwanted values with NaN\u001b[39;00m\n\u001b[1;32m      2\u001b[0m df \u001b[38;5;241m=\u001b[39m df\u001b[38;5;241m.\u001b[39mreplace({\n\u001b[0;32m----> 3\u001b[0m     \u001b[38;5;124m'\u001b[39m\u001b[38;5;124mnumber_of_reviews\u001b[39m\u001b[38;5;124m'\u001b[39m: {\u001b[38;5;124m'\u001b[39m\u001b[38;5;124mNo\u001b[39m\u001b[38;5;124m'\u001b[39m: \u001b[43mnp\u001b[49m\u001b[38;5;241m.\u001b[39mnan},\n\u001b[1;32m      4\u001b[0m     \u001b[38;5;124m'\u001b[39m\u001b[38;5;124mrating\u001b[39m\u001b[38;5;124m'\u001b[39m: {\u001b[38;5;124m'\u001b[39m\u001b[38;5;124mRating not found\u001b[39m\u001b[38;5;124m'\u001b[39m: np\u001b[38;5;241m.\u001b[39mnan},\n\u001b[1;32m      5\u001b[0m     \u001b[38;5;124m'\u001b[39m\u001b[38;5;124mfood\u001b[39m\u001b[38;5;124m'\u001b[39m: {\u001b[38;5;124m'\u001b[39m\u001b[38;5;124mFood not found\u001b[39m\u001b[38;5;124m'\u001b[39m: np\u001b[38;5;241m.\u001b[39mnan},\n\u001b[1;32m      6\u001b[0m     \u001b[38;5;124m'\u001b[39m\u001b[38;5;124mservice\u001b[39m\u001b[38;5;124m'\u001b[39m: {\u001b[38;5;124m'\u001b[39m\u001b[38;5;124mService not found\u001b[39m\u001b[38;5;124m'\u001b[39m: np\u001b[38;5;241m.\u001b[39mnan},\n\u001b[1;32m      7\u001b[0m     \u001b[38;5;124m'\u001b[39m\u001b[38;5;124mambience\u001b[39m\u001b[38;5;124m'\u001b[39m: {\u001b[38;5;124m'\u001b[39m\u001b[38;5;124mAmbience not found\u001b[39m\u001b[38;5;124m'\u001b[39m: np\u001b[38;5;241m.\u001b[39mnan},\n\u001b[1;32m      8\u001b[0m     \u001b[38;5;124m'\u001b[39m\u001b[38;5;124mvalue\u001b[39m\u001b[38;5;124m'\u001b[39m: {\u001b[38;5;124m'\u001b[39m\u001b[38;5;124mValue not found\u001b[39m\u001b[38;5;124m'\u001b[39m: np\u001b[38;5;241m.\u001b[39mnan}\n\u001b[1;32m      9\u001b[0m })\n\u001b[1;32m     11\u001b[0m \u001b[38;5;66;03m# Check for non-numeric values before converting\u001b[39;00m\n\u001b[1;32m     12\u001b[0m \u001b[38;5;66;03m# This is optional, just for debugging\u001b[39;00m\n\u001b[1;32m     13\u001b[0m \u001b[38;5;28mprint\u001b[39m(df[\u001b[38;5;124m'\u001b[39m\u001b[38;5;124mnumber_of_reviews\u001b[39m\u001b[38;5;124m'\u001b[39m]\u001b[38;5;241m.\u001b[39munique())\n",
      "\u001b[0;31mNameError\u001b[0m: name 'np' is not defined"
     ]
    }
   ],
   "source": [
    "\n",
    "\n",
    "# Replace specific unwanted values with NaN\n",
    "df = df.replace({\n",
    "    'number_of_reviews': {'No': np.nan},\n",
    "    'rating': {'Rating not found': np.nan},\n",
    "    'food': {'Food not found': np.nan},\n",
    "    'service': {'Service not found': np.nan},\n",
    "    'ambience': {'Ambience not found': np.nan},\n",
    "    'value': {'Value not found': np.nan}\n",
    "})\n",
    "\n",
    "# Check for non-numeric values before converting\n",
    "# This is optional, just for debugging\n",
    "print(df['number_of_reviews'].unique())\n",
    "\n",
    "# Convert the columns to float, handle errors\n",
    "df['number_of_reviews'] = pd.to_numeric(df['number_of_reviews'], errors='coerce')\n",
    "df['rating'] = pd.to_numeric(df['rating'], errors='coerce')\n",
    "df['food'] = pd.to_numeric(df['food'], errors='coerce')\n",
    "df['service'] = pd.to_numeric(df['service'], errors='coerce')\n",
    "df['ambience'] = pd.to_numeric(df['ambience'], errors='coerce')\n",
    "df['value'] = pd.to_numeric(df['value'], errors='coerce')\n",
    "\n",
    "# Fill NaN values with 0\n",
    "df = df.fillna(0)\n",
    "\n",
    "# Convert types as required\n",
    "df = df.astype({\n",
    "    'number_of_reviews': 'int',\n",
    "    'rating': 'float',\n",
    "    'food': 'float',\n",
    "    'service': 'float',\n",
    "    'ambience': 'float',\n",
    "    'value': 'float'\n",
    "})\n"
   ]
  },
  {
   "cell_type": "code",
   "execution_count": 52,
   "id": "7108ad41-650c-4699-824f-f2b33647d504",
   "metadata": {},
   "outputs": [
    {
     "data": {
      "text/plain": [
       "url                   object\n",
       "rest_name             object\n",
       "number_of_reviews      int64\n",
       "rating               float64\n",
       "food_type             object\n",
       "coupon                object\n",
       "food                 float64\n",
       "service              float64\n",
       "ambience             float64\n",
       "value                float64\n",
       "about_rest            object\n",
       "comments              object\n",
       "image_url             object\n",
       "City                  object\n",
       "dtype: object"
      ]
     },
     "execution_count": 52,
     "metadata": {},
     "output_type": "execute_result"
    }
   ],
   "source": [
    "df.dtypes"
   ]
  },
  {
   "cell_type": "code",
   "execution_count": 53,
   "id": "a4a04dbb",
   "metadata": {},
   "outputs": [
    {
     "name": "stdout",
     "output_type": "stream",
     "text": [
      "int64\n"
     ]
    }
   ],
   "source": [
    "print(df['number_of_reviews'].dtype)\n"
   ]
  },
  {
   "cell_type": "code",
   "execution_count": 54,
   "id": "132178c0-5c3a-4cd2-a66d-97c70b0cf83d",
   "metadata": {},
   "outputs": [],
   "source": [
    "# Remove rows where 'rating' is 0\n",
    "df = df[df['rating'] != 0]\n"
   ]
  },
  {
   "cell_type": "code",
   "execution_count": 55,
   "id": "9fcc8e2b-2509-403f-babd-ba1f621f72cd",
   "metadata": {},
   "outputs": [
    {
     "name": "stdout",
     "output_type": "stream",
     "text": [
      "url                   object\n",
      "rest_name             object\n",
      "number_of_reviews      int64\n",
      "rating               float64\n",
      "food_type             object\n",
      "coupon                object\n",
      "food                 float64\n",
      "service              float64\n",
      "ambience             float64\n",
      "value                float64\n",
      "about_rest            object\n",
      "comments              object\n",
      "image_url             object\n",
      "City                  object\n",
      "dtype: object\n"
     ]
    }
   ],
   "source": [
    "print(df.dtypes)"
   ]
  },
  {
   "cell_type": "code",
   "execution_count": 56,
   "id": "417de5a7-9a54-4f18-aaf1-bd8557a5ddcb",
   "metadata": {},
   "outputs": [],
   "source": [
    "# Save the cleaned dataset\n",
    "df.to_csv('San Francisco.csv', index=False)"
   ]
  },
  {
   "cell_type": "code",
   "execution_count": null,
   "id": "ed3cad38-2593-4b4b-8f26-cf52a15a7546",
   "metadata": {},
   "outputs": [],
   "source": []
  }
 ],
 "metadata": {
  "kernelspec": {
   "display_name": "venv",
   "language": "python",
   "name": "venv"
  },
  "language_info": {
   "codemirror_mode": {
    "name": "ipython",
    "version": 3
   },
   "file_extension": ".py",
   "mimetype": "text/x-python",
   "name": "python",
   "nbconvert_exporter": "python",
   "pygments_lexer": "ipython3",
   "version": "3.12.4"
  }
 },
 "nbformat": 4,
 "nbformat_minor": 5
}
