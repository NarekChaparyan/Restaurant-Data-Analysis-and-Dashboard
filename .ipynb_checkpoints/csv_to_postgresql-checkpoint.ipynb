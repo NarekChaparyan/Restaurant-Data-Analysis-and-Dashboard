{
 "cells": [
  {
   "cell_type": "code",
   "execution_count": 4,
   "id": "7a684eda-5871-4ff2-b4f3-279135b7c606",
   "metadata": {},
   "outputs": [
    {
     "name": "stdout",
     "output_type": "stream",
     "text": [
      "Uploaded ~/desktop/aaa/San_Francisco.csv to table san_francisco\n",
      "Uploaded ~/desktop/aaa/San_Diego.csv to table san_diego\n",
      "Uploaded ~/desktop/aaa/New_York.csv to table new_york\n",
      "Uploaded ~/desktop/aaa/Los_Angeles.csv to table los_angeles\n",
      "Uploaded ~/desktop/aaa/Chicago_.csv to table chicago\n"
     ]
    }
   ],
   "source": [
    "import pandas as pd\n",
    "from sqlalchemy import create_engine\n",
    "\n",
    "# List of CSV file paths\n",
    "file_paths = [\n",
    "    '~/desktop/aaa/San_Francisco.csv',\n",
    "    '~/desktop/aaa/San_Diego.csv',\n",
    "    '~/desktop/aaa/New_York.csv',\n",
    "    '~/desktop/aaa/Los_Angeles.csv',\n",
    "    '~/desktop/aaa/Chicago_.csv'\n",
    "]\n",
    "\n",
    "# List of corresponding table names for each file\n",
    "table_names = [\n",
    "    'san_francisco',\n",
    "    'san_diego',\n",
    "    'new_york',\n",
    "    'los_angeles',\n",
    "    'chicago'\n",
    "]\n",
    "\n",
    "# Database connection details\n",
    "db_username = 'postgres'\n",
    "db_password = 'postgres'\n",
    "db_host = 'localhost'  # e.g., 'localhost' or your AWS instance IP\n",
    "db_port = '5433'\n",
    "db_name = 'final_project'\n",
    "\n",
    "# Create the engine to connect to PostgreSQL\n",
    "engine = create_engine(f'postgresql+psycopg2://{db_username}:{db_password}@{db_host}:{db_port}/{db_name}')\n",
    "\n",
    "# Loop through files and upload each to the corresponding table\n",
    "for file_path, table_name in zip(file_paths, table_names):\n",
    "    # Read each CSV file into a DataFrame\n",
    "    df = pd.read_csv(file_path)\n",
    "    # Upload the DataFrame to the specified table in PostgreSQL\n",
    "    df.to_sql(table_name, engine, if_exists='replace', index=False)\n",
    "    print(f\"Uploaded {file_path} to table {table_name}\")"
   ]
  },
  {
   "cell_type": "code",
   "execution_count": null,
   "id": "d70a2bac-1b6e-46b4-b9d1-58f493e06d77",
   "metadata": {},
   "outputs": [],
   "source": []
  }
 ],
 "metadata": {
  "kernelspec": {
   "display_name": "Python 3 (ipykernel)",
   "language": "python",
   "name": "python3"
  },
  "language_info": {
   "codemirror_mode": {
    "name": "ipython",
    "version": 3
   },
   "file_extension": ".py",
   "mimetype": "text/x-python",
   "name": "python",
   "nbconvert_exporter": "python",
   "pygments_lexer": "ipython3",
   "version": "3.12.4"
  }
 },
 "nbformat": 4,
 "nbformat_minor": 5
}
