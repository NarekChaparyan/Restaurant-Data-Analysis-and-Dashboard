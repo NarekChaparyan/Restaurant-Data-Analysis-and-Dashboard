{
 "cells": [
  {
   "cell_type": "code",
   "execution_count": null,
   "id": "eea29564-b1a0-43eb-90aa-770e620ae112",
   "metadata": {},
   "outputs": [
    {
     "name": "stdout",
     "output_type": "stream",
     "text": [
      "Column Names and Data Types:\n",
      "url                  object\n",
      "rest_name            object\n",
      "number_of_reviews    object\n",
      "rating               object\n",
      "food_type            object\n",
      "coupon               object\n",
      "food                 object\n",
      "service              object\n",
      "ambience             object\n",
      "value                object\n",
      "about_rest           object\n",
      "comments             object\n",
      "image_url            object\n",
      "dtype: object\n"
     ]
    }
   ],
   "source": [
    "import pandas as pd\n",
    "\n",
    "# Read the CSV file\n",
    "df = pd.read_csv('USA_CITY_NAME.csv')\n",
    "\n",
    "# Print column names and their data types\n",
    "print(\"Column Names and Data Types:\")\n",
    "print(df.dtypes)"
   ]
  },
  {
   "cell_type": "code",
   "execution_count": null,
   "id": "49cac0b9-6460-443f-85fa-6a5c6b90959f",
   "metadata": {},
   "outputs": [
    {
     "name": "stdout",
     "output_type": "stream",
     "text": [
      "Number of Empty Cells in Each Column:\n",
      "url                  0\n",
      "rest_name            0\n",
      "number_of_reviews    0\n",
      "rating               0\n",
      "food_type            0\n",
      "coupon               0\n",
      "food                 0\n",
      "service              0\n",
      "ambience             0\n",
      "value                0\n",
      "about_rest           0\n",
      "comments             0\n",
      "image_url            0\n",
      "dtype: int64\n"
     ]
    }
   ],
   "source": [
    "import pandas as pd\n",
    "\n",
    "# Read the CSV file\n",
    "df = pd.read_csv('USA_CITY_NAME.csv')\n",
    "\n",
    "# Check for empty cells\n",
    "empty_cells = df.isna().sum()\n",
    "\n",
    "# Print the number of empty cells for each column\n",
    "print(\"Number of Empty Cells in Each Column:\")\n",
    "print(empty_cells)"
   ]
  },
  {
   "cell_type": "code",
   "execution_count": null,
   "id": "347efacf-f881-4146-a688-ce915d26c114",
   "metadata": {},
   "outputs": [
    {
     "data": {
      "text/plain": [
       "url                  0\n",
       "rest_name            0\n",
       "number_of_reviews    0\n",
       "rating               0\n",
       "food_type            0\n",
       "coupon               0\n",
       "food                 0\n",
       "service              0\n",
       "ambience             0\n",
       "value                0\n",
       "about_rest           0\n",
       "comments             0\n",
       "image_url            0\n",
       "dtype: int64"
      ]
     },
     "execution_count": 106,
     "metadata": {},
     "output_type": "execute_result"
    }
   ],
   "source": [
    "def is_whitespace_or_empty(x):\n",
    "    return isinstance(x, str) and (x.strip() == '' or x != x.strip())\n",
    "df.map(is_whitespace_or_empty).sum()"
   ]
  },
  {
   "cell_type": "code",
   "execution_count": null,
   "id": "fba7f965-73ce-47e6-801f-6f2e247b85d1",
   "metadata": {},
   "outputs": [
    {
     "data": {
      "text/plain": [
       "np.int64(0)"
      ]
     },
     "execution_count": 107,
     "metadata": {},
     "output_type": "execute_result"
    }
   ],
   "source": [
    "# Strip leading/trailing whitespace from all entries in the 'comments' column\n",
    "df['comments'] = df['comments'].apply(lambda x: x.strip() if isinstance(x, str) else x)\n",
    "\n",
    "# Verify if the cleaning was successful\n",
    "df['comments'].map(is_whitespace_or_empty).sum()"
   ]
  },
  {
   "cell_type": "code",
   "execution_count": null,
   "id": "2cc474d0-5391-4e8d-a908-e861957b9a76",
   "metadata": {},
   "outputs": [
    {
     "data": {
      "text/plain": [
       "np.int64(0)"
      ]
     },
     "execution_count": 108,
     "metadata": {},
     "output_type": "execute_result"
    }
   ],
   "source": [
    "# Strip leading/trailing whitespace from all entries in the 'about' column\n",
    "df['about_rest'] = df['about_rest'].apply(lambda x: x.strip() if isinstance(x, str) else x)\n",
    "\n",
    "# Verify if the cleaning was successful\n",
    "df['about_rest'].map(is_whitespace_or_empty).sum()"
   ]
  },
  {
   "cell_type": "code",
   "execution_count": null,
   "id": "9235db11-6f7a-4ef8-9363-ec856e37635d",
   "metadata": {},
   "outputs": [
    {
     "data": {
      "text/plain": [
       "url                  0\n",
       "rest_name            0\n",
       "number_of_reviews    0\n",
       "rating               0\n",
       "food_type            0\n",
       "coupon               0\n",
       "food                 0\n",
       "service              0\n",
       "ambience             0\n",
       "value                0\n",
       "about_rest           0\n",
       "comments             0\n",
       "image_url            0\n",
       "dtype: int64"
      ]
     },
     "execution_count": 109,
     "metadata": {},
     "output_type": "execute_result"
    }
   ],
   "source": [
    "df.map(is_whitespace_or_empty).sum()"
   ]
  },
  {
   "cell_type": "code",
   "execution_count": null,
   "id": "6762fc4f-ee97-4108-90bf-8a7c15b58e4a",
   "metadata": {},
   "outputs": [
    {
     "data": {
      "text/plain": [
       "False"
      ]
     },
     "execution_count": 77,
     "metadata": {},
     "output_type": "execute_result"
    }
   ],
   "source": [
    "df['rest_name'].is_unique"
   ]
  },
  {
   "cell_type": "code",
   "execution_count": null,
   "id": "540ba875-3048-4163-a16c-80d1f9c8b7af",
   "metadata": {},
   "outputs": [
    {
     "data": {
      "text/plain": [
       "url                  object\n",
       "rest_name            object\n",
       "number_of_reviews    object\n",
       "rating               object\n",
       "food_type            object\n",
       "coupon               object\n",
       "food                 object\n",
       "service              object\n",
       "ambience             object\n",
       "value                object\n",
       "about_rest           object\n",
       "comments             object\n",
       "image_url            object\n",
       "dtype: object"
      ]
     },
     "execution_count": 78,
     "metadata": {},
     "output_type": "execute_result"
    }
   ],
   "source": [
    "df.dtypes"
   ]
  },
  {
   "cell_type": "code",
   "execution_count": null,
   "id": "6b90a1cb-afe4-4637-bef3-9d4075c718a5",
   "metadata": {},
   "outputs": [],
   "source": [
    "df['number_of_reviews'] = df['number_of_reviews'].str.split().str[0]"
   ]
  },
  {
   "cell_type": "code",
   "execution_count": null,
   "id": "104ae039-5d2b-4ce8-b1c4-5f628c997ec7",
   "metadata": {},
   "outputs": [
    {
     "name": "stdout",
     "output_type": "stream",
     "text": [
      "['22' '1203' '1738' '179' '1240' '1236' '677' '6286' '4024' '4625' '165'\n",
      " '4005' '7782' '2854' '903' '3177' '4896' '753' '2267' '1123' '3272' '16'\n",
      " '951' '6791' '82' '1518' '174' '842' '8639' '137' '1714' 'No' '5890' '72'\n",
      " '1555' '1568' '1018' '2976' '5507' '19' '940' '6858' '1347' '20' '808'\n",
      " '1017' '6269' '354' '5031' '1951' '267' '131' '832' '214' '2709' '3236'\n",
      " '175' '2418' '108' '693' '3779' '7' '11843' '2795' '471' '54' '4493'\n",
      " '1229' '809' '2585' '1011' '2426' '2121' '5955' '5737' '2821' '5284'\n",
      " '5974' '67' '225' '91' '85' '7381' '2626' '2341' '5608' '1391' '185'\n",
      " '248' '548' '89' '3184' '25' '408' '1290' '1378' '7522' '569' '191'\n",
      " '1079' '254' '224' '330' '2596' '142' '10832' '2102' '164' '1107' '5873'\n",
      " '3757' '358' '678' '751' '3' '169' '102' '15' '9195' '627' '128' '375'\n",
      " '21' '5912' '5314' '9' '323' '2' '245' '95' '515' '2530' '419' '1941'\n",
      " '2106' '10' '6' '217' '915' '86' '81' '305' '18' '24' '4859' '167' '795'\n",
      " '58' '31' '53' '14' '4731' '1309' '959' '35' '2062' '1662' '66' '8' '155'\n",
      " '4538' '71' '1520' '4603' '204' '836' '1439' '242' '60' '59' '17' '1517'\n",
      " '610' '222' '1002' '2606' '1' '1504' '4' '218' '140' '27' '706' '765'\n",
      " '43' '227' '40' '149' '538' '391' '5' '117' '168' '190' '32' '107' '489'\n",
      " '12' '73' '343' '13' '262' '425' '34' '38' '1056' '775' '6275' '3900'\n",
      " '327' '1152' '322' '848' '299' '116' '723' '636' '703' '1060' '739' '173'\n",
      " '1066' '602' '51' '895' '748' '11' '30' '62' '2494' '363' '156' '4755'\n",
      " '26' '183' '1362' '158' '4192' '122' '2220' '47' '276' '787' '277' '45'\n",
      " '64' '442' '230' '948' '362' '1495' '1262' '2554' '2370' '268' '512'\n",
      " '695' '2210' '310' '1705' '334' '296' '520' '77' '8778' '1220' '6956'\n",
      " '2419' '780' '263' '2549' '331' '653' '48' '2411' '303' '182' '1461'\n",
      " '638' '237' '746' '598' '2660']\n"
     ]
    }
   ],
   "source": [
    "print(df['number_of_reviews'].unique())\n"
   ]
  },
  {
   "cell_type": "code",
   "execution_count": null,
   "id": "a5a85f13-4581-48d5-90c9-f910e93c98c0",
   "metadata": {},
   "outputs": [
    {
     "data": {
      "text/html": [
       "<div>\n",
       "<style scoped>\n",
       "    .dataframe tbody tr th:only-of-type {\n",
       "        vertical-align: middle;\n",
       "    }\n",
       "\n",
       "    .dataframe tbody tr th {\n",
       "        vertical-align: top;\n",
       "    }\n",
       "\n",
       "    .dataframe thead th {\n",
       "        text-align: right;\n",
       "    }\n",
       "</style>\n",
       "<table border=\"1\" class=\"dataframe\">\n",
       "  <thead>\n",
       "    <tr style=\"text-align: right;\">\n",
       "      <th></th>\n",
       "      <th>url</th>\n",
       "      <th>rest_name</th>\n",
       "      <th>number_of_reviews</th>\n",
       "      <th>rating</th>\n",
       "      <th>food_type</th>\n",
       "      <th>coupon</th>\n",
       "      <th>food</th>\n",
       "      <th>service</th>\n",
       "      <th>ambience</th>\n",
       "      <th>value</th>\n",
       "      <th>about_rest</th>\n",
       "      <th>comments</th>\n",
       "      <th>image_url</th>\n",
       "    </tr>\n",
       "  </thead>\n",
       "  <tbody>\n",
       "    <tr>\n",
       "      <th>0</th>\n",
       "      <td>https://www.opentable.com/r/tao-asian-bistro-l...</td>\n",
       "      <td>TAO Asian Bistro - Los Angeles</td>\n",
       "      <td>4042</td>\n",
       "      <td>4.7</td>\n",
       "      <td>Asian</td>\n",
       "      <td>$31 to $50</td>\n",
       "      <td>4.7</td>\n",
       "      <td>4.6</td>\n",
       "      <td>4.8</td>\n",
       "      <td>4.3</td>\n",
       "      <td>TAO Los Angeles is a dynamic two-level space, ...</td>\n",
       "      <td>Awesome atmosphere and fun good food.  Service...</td>\n",
       "      <td>https://resizer.otstatic.com/v2/photos/xlarge/...</td>\n",
       "    </tr>\n",
       "    <tr>\n",
       "      <th>1</th>\n",
       "      <td>https://www.opentable.com/r/mrs-fish-los-angel...</td>\n",
       "      <td>Mrs. Fish</td>\n",
       "      <td>1613</td>\n",
       "      <td>4.5</td>\n",
       "      <td>Japanese</td>\n",
       "      <td>$31 to $50</td>\n",
       "      <td>4.4</td>\n",
       "      <td>4.4</td>\n",
       "      <td>4.6</td>\n",
       "      <td>4.2</td>\n",
       "      <td>A truly unique dining and cocktail experience ...</td>\n",
       "      <td>Read more Unique and delectable- decor and jaz...</td>\n",
       "      <td>https://resizer.otstatic.com/v2/photos/xlarge/...</td>\n",
       "    </tr>\n",
       "    <tr>\n",
       "      <th>2</th>\n",
       "      <td>https://www.opentable.com/takami-sushi-and-rob...</td>\n",
       "      <td>Takami Sushi &amp; Robata Restaurant</td>\n",
       "      <td>3489</td>\n",
       "      <td>4.5</td>\n",
       "      <td>Japanese</td>\n",
       "      <td>$31 to $50</td>\n",
       "      <td>4.4</td>\n",
       "      <td>4.5</td>\n",
       "      <td>4.7</td>\n",
       "      <td>4.2</td>\n",
       "      <td>The Takami Sushi &amp; Robata restaurant is the on...</td>\n",
       "      <td>Read more Fantastic View and fantastic food an...</td>\n",
       "      <td>https://resizer.otstatic.com/v2/photos/xlarge/...</td>\n",
       "    </tr>\n",
       "    <tr>\n",
       "      <th>3</th>\n",
       "      <td>https://www.opentable.com/r/tao-asian-bistro-l...</td>\n",
       "      <td>TAO Asian Bistro - Los Angeles</td>\n",
       "      <td>4042</td>\n",
       "      <td>4.7</td>\n",
       "      <td>Asian</td>\n",
       "      <td>$31 to $50</td>\n",
       "      <td>4.7</td>\n",
       "      <td>4.6</td>\n",
       "      <td>4.8</td>\n",
       "      <td>4.3</td>\n",
       "      <td>TAO Los Angeles is a dynamic two-level space, ...</td>\n",
       "      <td>Awesome atmosphere and fun good food.  Service...</td>\n",
       "      <td>https://resizer.otstatic.com/v2/photos/xlarge/...</td>\n",
       "    </tr>\n",
       "    <tr>\n",
       "      <th>4</th>\n",
       "      <td>https://www.opentable.com/r/bacari-silver-lake...</td>\n",
       "      <td>Bacari Silverlake</td>\n",
       "      <td>3905</td>\n",
       "      <td>4.7</td>\n",
       "      <td>Italian</td>\n",
       "      <td>$31 to $50</td>\n",
       "      <td>4.7</td>\n",
       "      <td>4.6</td>\n",
       "      <td>4.8</td>\n",
       "      <td>4.5</td>\n",
       "      <td>Bacari Silverlake is a Venetian-inspired small...</td>\n",
       "      <td>Read more Estupenda la noche, platillo riquísi...</td>\n",
       "      <td>https://resizer.otstatic.com/v2/photos/xlarge/...</td>\n",
       "    </tr>\n",
       "    <tr>\n",
       "      <th>...</th>\n",
       "      <td>...</td>\n",
       "      <td>...</td>\n",
       "      <td>...</td>\n",
       "      <td>...</td>\n",
       "      <td>...</td>\n",
       "      <td>...</td>\n",
       "      <td>...</td>\n",
       "      <td>...</td>\n",
       "      <td>...</td>\n",
       "      <td>...</td>\n",
       "      <td>...</td>\n",
       "      <td>...</td>\n",
       "      <td>...</td>\n",
       "    </tr>\n",
       "    <tr>\n",
       "      <th>201</th>\n",
       "      <td>https://www.opentable.com/r/abeautifullife-jam...</td>\n",
       "      <td>(abeautifullife) Jamaican Kitchen</td>\n",
       "      <td>356</td>\n",
       "      <td>4.3</td>\n",
       "      <td>Jamaican</td>\n",
       "      <td>$30 and under</td>\n",
       "      <td>4.3</td>\n",
       "      <td>4.3</td>\n",
       "      <td>4.3</td>\n",
       "      <td>4.1</td>\n",
       "      <td>(abeautifullife) Jamaican was founded in 2013....</td>\n",
       "      <td>Read more The food was amazing. Our server dia...</td>\n",
       "      <td>https://resizer.otstatic.com/v2/photos/xlarge/...</td>\n",
       "    </tr>\n",
       "    <tr>\n",
       "      <th>202</th>\n",
       "      <td>https://www.opentable.com/r/buca-di-beppo-univ...</td>\n",
       "      <td>Buca di Beppo - Universal City</td>\n",
       "      <td>869</td>\n",
       "      <td>4.1</td>\n",
       "      <td>Italian</td>\n",
       "      <td>$30 and under</td>\n",
       "      <td>4.1</td>\n",
       "      <td>4.2</td>\n",
       "      <td>4</td>\n",
       "      <td>3.9</td>\n",
       "      <td>When you're in the mood for amazing Italian fo...</td>\n",
       "      <td>Read more In 2009 Bucca was a special place to...</td>\n",
       "      <td>https://resizer.otstatic.com/v2/photos/xlarge/...</td>\n",
       "    </tr>\n",
       "    <tr>\n",
       "      <th>203</th>\n",
       "      <td>https://www.opentable.com/r/h-and-h-brazilian-...</td>\n",
       "      <td>H&amp;H Brazilian Steakhouse - Beverly Hills</td>\n",
       "      <td>14</td>\n",
       "      <td>4.4</td>\n",
       "      <td>Brazilian Steakhouse</td>\n",
       "      <td>$30 and under</td>\n",
       "      <td>4.3</td>\n",
       "      <td>4.2</td>\n",
       "      <td>4.5</td>\n",
       "      <td>4.1</td>\n",
       "      <td>The Number #1 Brazilian Steakhouse in Los Ange...</td>\n",
       "      <td>Read more Excellent!!! We had a great time and...</td>\n",
       "      <td>https://resizer.otstatic.com/v2/photos/xlarge/...</td>\n",
       "    </tr>\n",
       "    <tr>\n",
       "      <th>204</th>\n",
       "      <td>https://www.opentable.com/r/del-friscos-double...</td>\n",
       "      <td>Del Frisco’s Double Eagle Steakhouse – Beverly...</td>\n",
       "      <td>1325</td>\n",
       "      <td>4.5</td>\n",
       "      <td>Steakhouse</td>\n",
       "      <td>$50 and over</td>\n",
       "      <td>4.5</td>\n",
       "      <td>4.5</td>\n",
       "      <td>4.5</td>\n",
       "      <td>4.1</td>\n",
       "      <td>Indulge in hand-cut steaks, fresh seafood, and...</td>\n",
       "      <td>Read more The restaurant was very nice.  Not t...</td>\n",
       "      <td>https://resizer.otstatic.com/v2/photos/xlarge/...</td>\n",
       "    </tr>\n",
       "    <tr>\n",
       "      <th>205</th>\n",
       "      <td>https://www.opentable.com/r/terra-e-mare-studi...</td>\n",
       "      <td>Terra E Mare</td>\n",
       "      <td>526</td>\n",
       "      <td>4.7</td>\n",
       "      <td>Contemporary Italian</td>\n",
       "      <td>$31 to $50</td>\n",
       "      <td>4.7</td>\n",
       "      <td>4.8</td>\n",
       "      <td>4.5</td>\n",
       "      <td>4.3</td>\n",
       "      <td>Terra e Mare features traditional and contempo...</td>\n",
       "      <td>Great tasting food, friendly, prompt service. ...</td>\n",
       "      <td>https://resizer.otstatic.com/v2/photos/xlarge/...</td>\n",
       "    </tr>\n",
       "  </tbody>\n",
       "</table>\n",
       "<p>206 rows × 13 columns</p>\n",
       "</div>"
      ],
      "text/plain": [
       "                                                   url  \\\n",
       "0    https://www.opentable.com/r/tao-asian-bistro-l...   \n",
       "1    https://www.opentable.com/r/mrs-fish-los-angel...   \n",
       "2    https://www.opentable.com/takami-sushi-and-rob...   \n",
       "3    https://www.opentable.com/r/tao-asian-bistro-l...   \n",
       "4    https://www.opentable.com/r/bacari-silver-lake...   \n",
       "..                                                 ...   \n",
       "201  https://www.opentable.com/r/abeautifullife-jam...   \n",
       "202  https://www.opentable.com/r/buca-di-beppo-univ...   \n",
       "203  https://www.opentable.com/r/h-and-h-brazilian-...   \n",
       "204  https://www.opentable.com/r/del-friscos-double...   \n",
       "205  https://www.opentable.com/r/terra-e-mare-studi...   \n",
       "\n",
       "                                             rest_name number_of_reviews  \\\n",
       "0                       TAO Asian Bistro - Los Angeles              4042   \n",
       "1                                            Mrs. Fish              1613   \n",
       "2                     Takami Sushi & Robata Restaurant              3489   \n",
       "3                       TAO Asian Bistro - Los Angeles              4042   \n",
       "4                                    Bacari Silverlake              3905   \n",
       "..                                                 ...               ...   \n",
       "201                  (abeautifullife) Jamaican Kitchen               356   \n",
       "202                     Buca di Beppo - Universal City               869   \n",
       "203           H&H Brazilian Steakhouse - Beverly Hills                14   \n",
       "204  Del Frisco’s Double Eagle Steakhouse – Beverly...              1325   \n",
       "205                                       Terra E Mare               526   \n",
       "\n",
       "    rating             food_type         coupon food service ambience value  \\\n",
       "0      4.7                 Asian     $31 to $50  4.7     4.6      4.8   4.3   \n",
       "1      4.5              Japanese     $31 to $50  4.4     4.4      4.6   4.2   \n",
       "2      4.5              Japanese     $31 to $50  4.4     4.5      4.7   4.2   \n",
       "3      4.7                 Asian     $31 to $50  4.7     4.6      4.8   4.3   \n",
       "4      4.7               Italian     $31 to $50  4.7     4.6      4.8   4.5   \n",
       "..     ...                   ...            ...  ...     ...      ...   ...   \n",
       "201    4.3              Jamaican  $30 and under  4.3     4.3      4.3   4.1   \n",
       "202    4.1               Italian  $30 and under  4.1     4.2        4   3.9   \n",
       "203    4.4  Brazilian Steakhouse  $30 and under  4.3     4.2      4.5   4.1   \n",
       "204    4.5            Steakhouse   $50 and over  4.5     4.5      4.5   4.1   \n",
       "205    4.7  Contemporary Italian     $31 to $50  4.7     4.8      4.5   4.3   \n",
       "\n",
       "                                            about_rest  \\\n",
       "0    TAO Los Angeles is a dynamic two-level space, ...   \n",
       "1    A truly unique dining and cocktail experience ...   \n",
       "2    The Takami Sushi & Robata restaurant is the on...   \n",
       "3    TAO Los Angeles is a dynamic two-level space, ...   \n",
       "4    Bacari Silverlake is a Venetian-inspired small...   \n",
       "..                                                 ...   \n",
       "201  (abeautifullife) Jamaican was founded in 2013....   \n",
       "202  When you're in the mood for amazing Italian fo...   \n",
       "203  The Number #1 Brazilian Steakhouse in Los Ange...   \n",
       "204  Indulge in hand-cut steaks, fresh seafood, and...   \n",
       "205  Terra e Mare features traditional and contempo...   \n",
       "\n",
       "                                              comments  \\\n",
       "0    Awesome atmosphere and fun good food.  Service...   \n",
       "1    Read more Unique and delectable- decor and jaz...   \n",
       "2    Read more Fantastic View and fantastic food an...   \n",
       "3    Awesome atmosphere and fun good food.  Service...   \n",
       "4    Read more Estupenda la noche, platillo riquísi...   \n",
       "..                                                 ...   \n",
       "201  Read more The food was amazing. Our server dia...   \n",
       "202  Read more In 2009 Bucca was a special place to...   \n",
       "203  Read more Excellent!!! We had a great time and...   \n",
       "204  Read more The restaurant was very nice.  Not t...   \n",
       "205  Great tasting food, friendly, prompt service. ...   \n",
       "\n",
       "                                             image_url  \n",
       "0    https://resizer.otstatic.com/v2/photos/xlarge/...  \n",
       "1    https://resizer.otstatic.com/v2/photos/xlarge/...  \n",
       "2    https://resizer.otstatic.com/v2/photos/xlarge/...  \n",
       "3    https://resizer.otstatic.com/v2/photos/xlarge/...  \n",
       "4    https://resizer.otstatic.com/v2/photos/xlarge/...  \n",
       "..                                                 ...  \n",
       "201  https://resizer.otstatic.com/v2/photos/xlarge/...  \n",
       "202  https://resizer.otstatic.com/v2/photos/xlarge/...  \n",
       "203  https://resizer.otstatic.com/v2/photos/xlarge/...  \n",
       "204  https://resizer.otstatic.com/v2/photos/xlarge/...  \n",
       "205  https://resizer.otstatic.com/v2/photos/xlarge/...  \n",
       "\n",
       "[206 rows x 13 columns]"
      ]
     },
     "execution_count": 89,
     "metadata": {},
     "output_type": "execute_result"
    }
   ],
   "source": [
    "df"
   ]
  },
  {
   "cell_type": "code",
   "execution_count": null,
   "id": "7dada560-d841-469c-9151-7619de5fea74",
   "metadata": {},
   "outputs": [
    {
     "ename": "ValueError",
     "evalue": "could not convert string to float: 'Reviews': Error while type casting for column 'number_of_reviews'",
     "output_type": "error",
     "traceback": [
      "\u001b[0;31m---------------------------------------------------------------------------\u001b[0m",
      "\u001b[0;31mValueError\u001b[0m                                Traceback (most recent call last)",
      "Cell \u001b[0;32mIn[90], line 10\u001b[0m\n\u001b[1;32m      1\u001b[0m \u001b[38;5;28;01mimport\u001b[39;00m \u001b[38;5;21;01mnumpy\u001b[39;00m \u001b[38;5;28;01mas\u001b[39;00m \u001b[38;5;21;01mnp\u001b[39;00m\n\u001b[1;32m      3\u001b[0m df \u001b[38;5;241m=\u001b[39m \u001b[43mdf\u001b[49m\u001b[38;5;241;43m.\u001b[39;49m\u001b[43mreplace\u001b[49m\u001b[43m(\u001b[49m\u001b[43m{\u001b[49m\n\u001b[1;32m      4\u001b[0m \u001b[43m    \u001b[49m\u001b[38;5;124;43m'\u001b[39;49m\u001b[38;5;124;43mnumber_of_reviews\u001b[39;49m\u001b[38;5;124;43m'\u001b[39;49m\u001b[43m:\u001b[49m\u001b[43m \u001b[49m\u001b[43m{\u001b[49m\u001b[38;5;124;43m'\u001b[39;49m\u001b[38;5;124;43mNo\u001b[39;49m\u001b[38;5;124;43m'\u001b[39;49m\u001b[43m:\u001b[49m\u001b[43m \u001b[49m\u001b[43mnp\u001b[49m\u001b[38;5;241;43m.\u001b[39;49m\u001b[43mnan\u001b[49m\u001b[43m}\u001b[49m\u001b[43m,\u001b[49m\n\u001b[1;32m      5\u001b[0m \u001b[43m    \u001b[49m\u001b[38;5;124;43m'\u001b[39;49m\u001b[38;5;124;43mrating\u001b[39;49m\u001b[38;5;124;43m'\u001b[39;49m\u001b[43m:\u001b[49m\u001b[43m \u001b[49m\u001b[43m{\u001b[49m\u001b[38;5;124;43m'\u001b[39;49m\u001b[38;5;124;43mRating not found\u001b[39;49m\u001b[38;5;124;43m'\u001b[39;49m\u001b[43m:\u001b[49m\u001b[43m \u001b[49m\u001b[43mnp\u001b[49m\u001b[38;5;241;43m.\u001b[39;49m\u001b[43mnan\u001b[49m\u001b[43m}\u001b[49m\u001b[43m,\u001b[49m\n\u001b[1;32m      6\u001b[0m \u001b[43m    \u001b[49m\u001b[38;5;124;43m'\u001b[39;49m\u001b[38;5;124;43mfood\u001b[39;49m\u001b[38;5;124;43m'\u001b[39;49m\u001b[43m:\u001b[49m\u001b[43m \u001b[49m\u001b[43m{\u001b[49m\u001b[38;5;124;43m'\u001b[39;49m\u001b[38;5;124;43mFood not found\u001b[39;49m\u001b[38;5;124;43m'\u001b[39;49m\u001b[43m:\u001b[49m\u001b[43m \u001b[49m\u001b[43mnp\u001b[49m\u001b[38;5;241;43m.\u001b[39;49m\u001b[43mnan\u001b[49m\u001b[43m}\u001b[49m\u001b[43m,\u001b[49m\n\u001b[1;32m      7\u001b[0m \u001b[43m    \u001b[49m\u001b[38;5;124;43m'\u001b[39;49m\u001b[38;5;124;43mservice\u001b[39;49m\u001b[38;5;124;43m'\u001b[39;49m\u001b[43m:\u001b[49m\u001b[43m \u001b[49m\u001b[43m{\u001b[49m\u001b[38;5;124;43m'\u001b[39;49m\u001b[38;5;124;43mService not found\u001b[39;49m\u001b[38;5;124;43m'\u001b[39;49m\u001b[43m:\u001b[49m\u001b[43m \u001b[49m\u001b[43mnp\u001b[49m\u001b[38;5;241;43m.\u001b[39;49m\u001b[43mnan\u001b[49m\u001b[43m}\u001b[49m\u001b[43m,\u001b[49m\n\u001b[1;32m      8\u001b[0m \u001b[43m    \u001b[49m\u001b[38;5;124;43m'\u001b[39;49m\u001b[38;5;124;43mambience\u001b[39;49m\u001b[38;5;124;43m'\u001b[39;49m\u001b[43m:\u001b[49m\u001b[43m \u001b[49m\u001b[43m{\u001b[49m\u001b[38;5;124;43m'\u001b[39;49m\u001b[38;5;124;43mAmbience not found\u001b[39;49m\u001b[38;5;124;43m'\u001b[39;49m\u001b[43m:\u001b[49m\u001b[43m \u001b[49m\u001b[43mnp\u001b[49m\u001b[38;5;241;43m.\u001b[39;49m\u001b[43mnan\u001b[49m\u001b[43m}\u001b[49m\u001b[43m,\u001b[49m\n\u001b[1;32m      9\u001b[0m \u001b[43m    \u001b[49m\u001b[38;5;124;43m'\u001b[39;49m\u001b[38;5;124;43mvalue\u001b[39;49m\u001b[38;5;124;43m'\u001b[39;49m\u001b[43m:\u001b[49m\u001b[43m \u001b[49m\u001b[43m{\u001b[49m\u001b[38;5;124;43m'\u001b[39;49m\u001b[38;5;124;43mValue not found\u001b[39;49m\u001b[38;5;124;43m'\u001b[39;49m\u001b[43m:\u001b[49m\u001b[43m \u001b[49m\u001b[43mnp\u001b[49m\u001b[38;5;241;43m.\u001b[39;49m\u001b[43mnan\u001b[49m\u001b[43m}\u001b[49m\n\u001b[0;32m---> 10\u001b[0m \u001b[43m}\u001b[49m\u001b[43m)\u001b[49m\u001b[38;5;241;43m.\u001b[39;49m\u001b[43mastype\u001b[49m\u001b[43m(\u001b[49m\u001b[43m{\u001b[49m\n\u001b[1;32m     11\u001b[0m \u001b[43m    \u001b[49m\u001b[38;5;124;43m'\u001b[39;49m\u001b[38;5;124;43mnumber_of_reviews\u001b[39;49m\u001b[38;5;124;43m'\u001b[39;49m\u001b[43m:\u001b[49m\u001b[43m \u001b[49m\u001b[38;5;124;43m'\u001b[39;49m\u001b[38;5;124;43mfloat\u001b[39;49m\u001b[38;5;124;43m'\u001b[39;49m\u001b[43m,\u001b[49m\n\u001b[1;32m     12\u001b[0m \u001b[43m    \u001b[49m\u001b[38;5;124;43m'\u001b[39;49m\u001b[38;5;124;43mrating\u001b[39;49m\u001b[38;5;124;43m'\u001b[39;49m\u001b[43m:\u001b[49m\u001b[43m \u001b[49m\u001b[38;5;124;43m'\u001b[39;49m\u001b[38;5;124;43mfloat\u001b[39;49m\u001b[38;5;124;43m'\u001b[39;49m\u001b[43m,\u001b[49m\n\u001b[1;32m     13\u001b[0m \u001b[43m    \u001b[49m\u001b[38;5;124;43m'\u001b[39;49m\u001b[38;5;124;43mfood\u001b[39;49m\u001b[38;5;124;43m'\u001b[39;49m\u001b[43m:\u001b[49m\u001b[43m \u001b[49m\u001b[38;5;124;43m'\u001b[39;49m\u001b[38;5;124;43mfloat\u001b[39;49m\u001b[38;5;124;43m'\u001b[39;49m\u001b[43m,\u001b[49m\n\u001b[1;32m     14\u001b[0m \u001b[43m    \u001b[49m\u001b[38;5;124;43m'\u001b[39;49m\u001b[38;5;124;43mservice\u001b[39;49m\u001b[38;5;124;43m'\u001b[39;49m\u001b[43m:\u001b[49m\u001b[43m \u001b[49m\u001b[38;5;124;43m'\u001b[39;49m\u001b[38;5;124;43mfloat\u001b[39;49m\u001b[38;5;124;43m'\u001b[39;49m\u001b[43m,\u001b[49m\n\u001b[1;32m     15\u001b[0m \u001b[43m    \u001b[49m\u001b[38;5;124;43m'\u001b[39;49m\u001b[38;5;124;43mambience\u001b[39;49m\u001b[38;5;124;43m'\u001b[39;49m\u001b[43m:\u001b[49m\u001b[43m \u001b[49m\u001b[38;5;124;43m'\u001b[39;49m\u001b[38;5;124;43mfloat\u001b[39;49m\u001b[38;5;124;43m'\u001b[39;49m\u001b[43m,\u001b[49m\n\u001b[1;32m     16\u001b[0m \u001b[43m    \u001b[49m\u001b[38;5;124;43m'\u001b[39;49m\u001b[38;5;124;43mvalue\u001b[39;49m\u001b[38;5;124;43m'\u001b[39;49m\u001b[43m:\u001b[49m\u001b[43m \u001b[49m\u001b[38;5;124;43m'\u001b[39;49m\u001b[38;5;124;43mfloat\u001b[39;49m\u001b[38;5;124;43m'\u001b[39;49m\n\u001b[1;32m     17\u001b[0m \u001b[43m}\u001b[49m\u001b[43m)\u001b[49m\u001b[38;5;241m.\u001b[39mfillna(\u001b[38;5;241m0\u001b[39m)\u001b[38;5;241m.\u001b[39mastype({\n\u001b[1;32m     18\u001b[0m     \u001b[38;5;124m'\u001b[39m\u001b[38;5;124mnumber_of_reviews\u001b[39m\u001b[38;5;124m'\u001b[39m: \u001b[38;5;124m'\u001b[39m\u001b[38;5;124mint\u001b[39m\u001b[38;5;124m'\u001b[39m,\n\u001b[1;32m     19\u001b[0m     \u001b[38;5;124m'\u001b[39m\u001b[38;5;124mrating\u001b[39m\u001b[38;5;124m'\u001b[39m: \u001b[38;5;124m'\u001b[39m\u001b[38;5;124mfloat\u001b[39m\u001b[38;5;124m'\u001b[39m,\n\u001b[1;32m     20\u001b[0m     \u001b[38;5;124m'\u001b[39m\u001b[38;5;124mfood\u001b[39m\u001b[38;5;124m'\u001b[39m: \u001b[38;5;124m'\u001b[39m\u001b[38;5;124mfloat\u001b[39m\u001b[38;5;124m'\u001b[39m,\n\u001b[1;32m     21\u001b[0m     \u001b[38;5;124m'\u001b[39m\u001b[38;5;124mservice\u001b[39m\u001b[38;5;124m'\u001b[39m: \u001b[38;5;124m'\u001b[39m\u001b[38;5;124mfloat\u001b[39m\u001b[38;5;124m'\u001b[39m,\n\u001b[1;32m     22\u001b[0m     \u001b[38;5;124m'\u001b[39m\u001b[38;5;124mambience\u001b[39m\u001b[38;5;124m'\u001b[39m: \u001b[38;5;124m'\u001b[39m\u001b[38;5;124mfloat\u001b[39m\u001b[38;5;124m'\u001b[39m,\n\u001b[1;32m     23\u001b[0m     \u001b[38;5;124m'\u001b[39m\u001b[38;5;124mvalue\u001b[39m\u001b[38;5;124m'\u001b[39m: \u001b[38;5;124m'\u001b[39m\u001b[38;5;124mfloat\u001b[39m\u001b[38;5;124m'\u001b[39m\n\u001b[1;32m     24\u001b[0m })\n",
      "File \u001b[0;32m/opt/homebrew/Cellar/jupyterlab/4.2.3/libexec/lib/python3.12/site-packages/pandas/core/generic.py:6620\u001b[0m, in \u001b[0;36mNDFrame.astype\u001b[0;34m(self, dtype, copy, errors)\u001b[0m\n\u001b[1;32m   6618\u001b[0m \u001b[38;5;28;01melse\u001b[39;00m:\n\u001b[1;32m   6619\u001b[0m     \u001b[38;5;28;01mtry\u001b[39;00m:\n\u001b[0;32m-> 6620\u001b[0m         res_col \u001b[38;5;241m=\u001b[39m \u001b[43mcol\u001b[49m\u001b[38;5;241;43m.\u001b[39;49m\u001b[43mastype\u001b[49m\u001b[43m(\u001b[49m\u001b[43mdtype\u001b[49m\u001b[38;5;241;43m=\u001b[39;49m\u001b[43mcdt\u001b[49m\u001b[43m,\u001b[49m\u001b[43m \u001b[49m\u001b[43mcopy\u001b[49m\u001b[38;5;241;43m=\u001b[39;49m\u001b[43mcopy\u001b[49m\u001b[43m,\u001b[49m\u001b[43m \u001b[49m\u001b[43merrors\u001b[49m\u001b[38;5;241;43m=\u001b[39;49m\u001b[43merrors\u001b[49m\u001b[43m)\u001b[49m\n\u001b[1;32m   6621\u001b[0m     \u001b[38;5;28;01mexcept\u001b[39;00m \u001b[38;5;167;01mValueError\u001b[39;00m \u001b[38;5;28;01mas\u001b[39;00m ex:\n\u001b[1;32m   6622\u001b[0m         ex\u001b[38;5;241m.\u001b[39margs \u001b[38;5;241m=\u001b[39m (\n\u001b[1;32m   6623\u001b[0m             \u001b[38;5;124mf\u001b[39m\u001b[38;5;124m\"\u001b[39m\u001b[38;5;132;01m{\u001b[39;00mex\u001b[38;5;132;01m}\u001b[39;00m\u001b[38;5;124m: Error while type casting for column \u001b[39m\u001b[38;5;124m'\u001b[39m\u001b[38;5;132;01m{\u001b[39;00mcol_name\u001b[38;5;132;01m}\u001b[39;00m\u001b[38;5;124m'\u001b[39m\u001b[38;5;124m\"\u001b[39m,\n\u001b[1;32m   6624\u001b[0m         )\n",
      "File \u001b[0;32m/opt/homebrew/Cellar/jupyterlab/4.2.3/libexec/lib/python3.12/site-packages/pandas/core/generic.py:6643\u001b[0m, in \u001b[0;36mNDFrame.astype\u001b[0;34m(self, dtype, copy, errors)\u001b[0m\n\u001b[1;32m   6637\u001b[0m     results \u001b[38;5;241m=\u001b[39m [\n\u001b[1;32m   6638\u001b[0m         ser\u001b[38;5;241m.\u001b[39mastype(dtype, copy\u001b[38;5;241m=\u001b[39mcopy, errors\u001b[38;5;241m=\u001b[39merrors) \u001b[38;5;28;01mfor\u001b[39;00m _, ser \u001b[38;5;129;01min\u001b[39;00m \u001b[38;5;28mself\u001b[39m\u001b[38;5;241m.\u001b[39mitems()\n\u001b[1;32m   6639\u001b[0m     ]\n\u001b[1;32m   6641\u001b[0m \u001b[38;5;28;01melse\u001b[39;00m:\n\u001b[1;32m   6642\u001b[0m     \u001b[38;5;66;03m# else, only a single dtype is given\u001b[39;00m\n\u001b[0;32m-> 6643\u001b[0m     new_data \u001b[38;5;241m=\u001b[39m \u001b[38;5;28;43mself\u001b[39;49m\u001b[38;5;241;43m.\u001b[39;49m\u001b[43m_mgr\u001b[49m\u001b[38;5;241;43m.\u001b[39;49m\u001b[43mastype\u001b[49m\u001b[43m(\u001b[49m\u001b[43mdtype\u001b[49m\u001b[38;5;241;43m=\u001b[39;49m\u001b[43mdtype\u001b[49m\u001b[43m,\u001b[49m\u001b[43m \u001b[49m\u001b[43mcopy\u001b[49m\u001b[38;5;241;43m=\u001b[39;49m\u001b[43mcopy\u001b[49m\u001b[43m,\u001b[49m\u001b[43m \u001b[49m\u001b[43merrors\u001b[49m\u001b[38;5;241;43m=\u001b[39;49m\u001b[43merrors\u001b[49m\u001b[43m)\u001b[49m\n\u001b[1;32m   6644\u001b[0m     res \u001b[38;5;241m=\u001b[39m \u001b[38;5;28mself\u001b[39m\u001b[38;5;241m.\u001b[39m_constructor_from_mgr(new_data, axes\u001b[38;5;241m=\u001b[39mnew_data\u001b[38;5;241m.\u001b[39maxes)\n\u001b[1;32m   6645\u001b[0m     \u001b[38;5;28;01mreturn\u001b[39;00m res\u001b[38;5;241m.\u001b[39m__finalize__(\u001b[38;5;28mself\u001b[39m, method\u001b[38;5;241m=\u001b[39m\u001b[38;5;124m\"\u001b[39m\u001b[38;5;124mastype\u001b[39m\u001b[38;5;124m\"\u001b[39m)\n",
      "File \u001b[0;32m/opt/homebrew/Cellar/jupyterlab/4.2.3/libexec/lib/python3.12/site-packages/pandas/core/internals/managers.py:430\u001b[0m, in \u001b[0;36mBaseBlockManager.astype\u001b[0;34m(self, dtype, copy, errors)\u001b[0m\n\u001b[1;32m    427\u001b[0m \u001b[38;5;28;01melif\u001b[39;00m using_copy_on_write():\n\u001b[1;32m    428\u001b[0m     copy \u001b[38;5;241m=\u001b[39m \u001b[38;5;28;01mFalse\u001b[39;00m\n\u001b[0;32m--> 430\u001b[0m \u001b[38;5;28;01mreturn\u001b[39;00m \u001b[38;5;28;43mself\u001b[39;49m\u001b[38;5;241;43m.\u001b[39;49m\u001b[43mapply\u001b[49m\u001b[43m(\u001b[49m\n\u001b[1;32m    431\u001b[0m \u001b[43m    \u001b[49m\u001b[38;5;124;43m\"\u001b[39;49m\u001b[38;5;124;43mastype\u001b[39;49m\u001b[38;5;124;43m\"\u001b[39;49m\u001b[43m,\u001b[49m\n\u001b[1;32m    432\u001b[0m \u001b[43m    \u001b[49m\u001b[43mdtype\u001b[49m\u001b[38;5;241;43m=\u001b[39;49m\u001b[43mdtype\u001b[49m\u001b[43m,\u001b[49m\n\u001b[1;32m    433\u001b[0m \u001b[43m    \u001b[49m\u001b[43mcopy\u001b[49m\u001b[38;5;241;43m=\u001b[39;49m\u001b[43mcopy\u001b[49m\u001b[43m,\u001b[49m\n\u001b[1;32m    434\u001b[0m \u001b[43m    \u001b[49m\u001b[43merrors\u001b[49m\u001b[38;5;241;43m=\u001b[39;49m\u001b[43merrors\u001b[49m\u001b[43m,\u001b[49m\n\u001b[1;32m    435\u001b[0m \u001b[43m    \u001b[49m\u001b[43musing_cow\u001b[49m\u001b[38;5;241;43m=\u001b[39;49m\u001b[43musing_copy_on_write\u001b[49m\u001b[43m(\u001b[49m\u001b[43m)\u001b[49m\u001b[43m,\u001b[49m\n\u001b[1;32m    436\u001b[0m \u001b[43m\u001b[49m\u001b[43m)\u001b[49m\n",
      "File \u001b[0;32m/opt/homebrew/Cellar/jupyterlab/4.2.3/libexec/lib/python3.12/site-packages/pandas/core/internals/managers.py:363\u001b[0m, in \u001b[0;36mBaseBlockManager.apply\u001b[0;34m(self, f, align_keys, **kwargs)\u001b[0m\n\u001b[1;32m    361\u001b[0m         applied \u001b[38;5;241m=\u001b[39m b\u001b[38;5;241m.\u001b[39mapply(f, \u001b[38;5;241m*\u001b[39m\u001b[38;5;241m*\u001b[39mkwargs)\n\u001b[1;32m    362\u001b[0m     \u001b[38;5;28;01melse\u001b[39;00m:\n\u001b[0;32m--> 363\u001b[0m         applied \u001b[38;5;241m=\u001b[39m \u001b[38;5;28;43mgetattr\u001b[39;49m\u001b[43m(\u001b[49m\u001b[43mb\u001b[49m\u001b[43m,\u001b[49m\u001b[43m \u001b[49m\u001b[43mf\u001b[49m\u001b[43m)\u001b[49m\u001b[43m(\u001b[49m\u001b[38;5;241;43m*\u001b[39;49m\u001b[38;5;241;43m*\u001b[39;49m\u001b[43mkwargs\u001b[49m\u001b[43m)\u001b[49m\n\u001b[1;32m    364\u001b[0m     result_blocks \u001b[38;5;241m=\u001b[39m extend_blocks(applied, result_blocks)\n\u001b[1;32m    366\u001b[0m out \u001b[38;5;241m=\u001b[39m \u001b[38;5;28mtype\u001b[39m(\u001b[38;5;28mself\u001b[39m)\u001b[38;5;241m.\u001b[39mfrom_blocks(result_blocks, \u001b[38;5;28mself\u001b[39m\u001b[38;5;241m.\u001b[39maxes)\n",
      "File \u001b[0;32m/opt/homebrew/Cellar/jupyterlab/4.2.3/libexec/lib/python3.12/site-packages/pandas/core/internals/blocks.py:758\u001b[0m, in \u001b[0;36mBlock.astype\u001b[0;34m(self, dtype, copy, errors, using_cow, squeeze)\u001b[0m\n\u001b[1;32m    755\u001b[0m         \u001b[38;5;28;01mraise\u001b[39;00m \u001b[38;5;167;01mValueError\u001b[39;00m(\u001b[38;5;124m\"\u001b[39m\u001b[38;5;124mCan not squeeze with more than one column.\u001b[39m\u001b[38;5;124m\"\u001b[39m)\n\u001b[1;32m    756\u001b[0m     values \u001b[38;5;241m=\u001b[39m values[\u001b[38;5;241m0\u001b[39m, :]  \u001b[38;5;66;03m# type: ignore[call-overload]\u001b[39;00m\n\u001b[0;32m--> 758\u001b[0m new_values \u001b[38;5;241m=\u001b[39m \u001b[43mastype_array_safe\u001b[49m\u001b[43m(\u001b[49m\u001b[43mvalues\u001b[49m\u001b[43m,\u001b[49m\u001b[43m \u001b[49m\u001b[43mdtype\u001b[49m\u001b[43m,\u001b[49m\u001b[43m \u001b[49m\u001b[43mcopy\u001b[49m\u001b[38;5;241;43m=\u001b[39;49m\u001b[43mcopy\u001b[49m\u001b[43m,\u001b[49m\u001b[43m \u001b[49m\u001b[43merrors\u001b[49m\u001b[38;5;241;43m=\u001b[39;49m\u001b[43merrors\u001b[49m\u001b[43m)\u001b[49m\n\u001b[1;32m    760\u001b[0m new_values \u001b[38;5;241m=\u001b[39m maybe_coerce_values(new_values)\n\u001b[1;32m    762\u001b[0m refs \u001b[38;5;241m=\u001b[39m \u001b[38;5;28;01mNone\u001b[39;00m\n",
      "File \u001b[0;32m/opt/homebrew/Cellar/jupyterlab/4.2.3/libexec/lib/python3.12/site-packages/pandas/core/dtypes/astype.py:237\u001b[0m, in \u001b[0;36mastype_array_safe\u001b[0;34m(values, dtype, copy, errors)\u001b[0m\n\u001b[1;32m    234\u001b[0m     dtype \u001b[38;5;241m=\u001b[39m dtype\u001b[38;5;241m.\u001b[39mnumpy_dtype\n\u001b[1;32m    236\u001b[0m \u001b[38;5;28;01mtry\u001b[39;00m:\n\u001b[0;32m--> 237\u001b[0m     new_values \u001b[38;5;241m=\u001b[39m \u001b[43mastype_array\u001b[49m\u001b[43m(\u001b[49m\u001b[43mvalues\u001b[49m\u001b[43m,\u001b[49m\u001b[43m \u001b[49m\u001b[43mdtype\u001b[49m\u001b[43m,\u001b[49m\u001b[43m \u001b[49m\u001b[43mcopy\u001b[49m\u001b[38;5;241;43m=\u001b[39;49m\u001b[43mcopy\u001b[49m\u001b[43m)\u001b[49m\n\u001b[1;32m    238\u001b[0m \u001b[38;5;28;01mexcept\u001b[39;00m (\u001b[38;5;167;01mValueError\u001b[39;00m, \u001b[38;5;167;01mTypeError\u001b[39;00m):\n\u001b[1;32m    239\u001b[0m     \u001b[38;5;66;03m# e.g. _astype_nansafe can fail on object-dtype of strings\u001b[39;00m\n\u001b[1;32m    240\u001b[0m     \u001b[38;5;66;03m#  trying to convert to float\u001b[39;00m\n\u001b[1;32m    241\u001b[0m     \u001b[38;5;28;01mif\u001b[39;00m errors \u001b[38;5;241m==\u001b[39m \u001b[38;5;124m\"\u001b[39m\u001b[38;5;124mignore\u001b[39m\u001b[38;5;124m\"\u001b[39m:\n",
      "File \u001b[0;32m/opt/homebrew/Cellar/jupyterlab/4.2.3/libexec/lib/python3.12/site-packages/pandas/core/dtypes/astype.py:182\u001b[0m, in \u001b[0;36mastype_array\u001b[0;34m(values, dtype, copy)\u001b[0m\n\u001b[1;32m    179\u001b[0m     values \u001b[38;5;241m=\u001b[39m values\u001b[38;5;241m.\u001b[39mastype(dtype, copy\u001b[38;5;241m=\u001b[39mcopy)\n\u001b[1;32m    181\u001b[0m \u001b[38;5;28;01melse\u001b[39;00m:\n\u001b[0;32m--> 182\u001b[0m     values \u001b[38;5;241m=\u001b[39m \u001b[43m_astype_nansafe\u001b[49m\u001b[43m(\u001b[49m\u001b[43mvalues\u001b[49m\u001b[43m,\u001b[49m\u001b[43m \u001b[49m\u001b[43mdtype\u001b[49m\u001b[43m,\u001b[49m\u001b[43m \u001b[49m\u001b[43mcopy\u001b[49m\u001b[38;5;241;43m=\u001b[39;49m\u001b[43mcopy\u001b[49m\u001b[43m)\u001b[49m\n\u001b[1;32m    184\u001b[0m \u001b[38;5;66;03m# in pandas we don't store numpy str dtypes, so convert to object\u001b[39;00m\n\u001b[1;32m    185\u001b[0m \u001b[38;5;28;01mif\u001b[39;00m \u001b[38;5;28misinstance\u001b[39m(dtype, np\u001b[38;5;241m.\u001b[39mdtype) \u001b[38;5;129;01mand\u001b[39;00m \u001b[38;5;28missubclass\u001b[39m(values\u001b[38;5;241m.\u001b[39mdtype\u001b[38;5;241m.\u001b[39mtype, \u001b[38;5;28mstr\u001b[39m):\n",
      "File \u001b[0;32m/opt/homebrew/Cellar/jupyterlab/4.2.3/libexec/lib/python3.12/site-packages/pandas/core/dtypes/astype.py:133\u001b[0m, in \u001b[0;36m_astype_nansafe\u001b[0;34m(arr, dtype, copy, skipna)\u001b[0m\n\u001b[1;32m    129\u001b[0m     \u001b[38;5;28;01mraise\u001b[39;00m \u001b[38;5;167;01mValueError\u001b[39;00m(msg)\n\u001b[1;32m    131\u001b[0m \u001b[38;5;28;01mif\u001b[39;00m copy \u001b[38;5;129;01mor\u001b[39;00m arr\u001b[38;5;241m.\u001b[39mdtype \u001b[38;5;241m==\u001b[39m \u001b[38;5;28mobject\u001b[39m \u001b[38;5;129;01mor\u001b[39;00m dtype \u001b[38;5;241m==\u001b[39m \u001b[38;5;28mobject\u001b[39m:\n\u001b[1;32m    132\u001b[0m     \u001b[38;5;66;03m# Explicit copy, or required since NumPy can't view from / to object.\u001b[39;00m\n\u001b[0;32m--> 133\u001b[0m     \u001b[38;5;28;01mreturn\u001b[39;00m \u001b[43marr\u001b[49m\u001b[38;5;241;43m.\u001b[39;49m\u001b[43mastype\u001b[49m\u001b[43m(\u001b[49m\u001b[43mdtype\u001b[49m\u001b[43m,\u001b[49m\u001b[43m \u001b[49m\u001b[43mcopy\u001b[49m\u001b[38;5;241;43m=\u001b[39;49m\u001b[38;5;28;43;01mTrue\u001b[39;49;00m\u001b[43m)\u001b[49m\n\u001b[1;32m    135\u001b[0m \u001b[38;5;28;01mreturn\u001b[39;00m arr\u001b[38;5;241m.\u001b[39mastype(dtype, copy\u001b[38;5;241m=\u001b[39mcopy)\n",
      "\u001b[0;31mValueError\u001b[0m: could not convert string to float: 'Reviews': Error while type casting for column 'number_of_reviews'"
     ]
    }
   ],
   "source": [
    "import numpy as np\n",
    "\n",
    "df = df.replace({\n",
    "    'number_of_reviews': {'No': np.nan},\n",
    "    'rating': {'Rating not found': np.nan},\n",
    "    'food': {'Food not found': np.nan},\n",
    "    'service': {'Service not found': np.nan},\n",
    "    'ambience': {'Ambience not found': np.nan},\n",
    "    'value': {'Value not found': np.nan}\n",
    "}).astype({\n",
    "    'number_of_reviews': 'float',\n",
    "    'rating': 'float',\n",
    "    'food': 'float',\n",
    "    'service': 'float',\n",
    "    'ambience': 'float',\n",
    "    'value': 'float'\n",
    "}).fillna(0).astype({\n",
    "    'number_of_reviews': 'int',\n",
    "    'rating': 'float',\n",
    "    'food': 'float',\n",
    "    'service': 'float',\n",
    "    'ambience': 'float',\n",
    "    'value': 'float'\n",
    "})"
   ]
  },
  {
   "cell_type": "code",
   "execution_count": null,
   "id": "7108ad41-650c-4699-824f-f2b33647d504",
   "metadata": {},
   "outputs": [
    {
     "data": {
      "text/plain": [
       "url                   object\n",
       "rest_name             object\n",
       "number_of_reviews      int64\n",
       "rating               float64\n",
       "food_type             object\n",
       "coupon                object\n",
       "food                 float64\n",
       "service              float64\n",
       "ambience             float64\n",
       "value                float64\n",
       "about_rest            object\n",
       "comments              object\n",
       "image_url             object\n",
       "dtype: object"
      ]
     },
     "execution_count": 93,
     "metadata": {},
     "output_type": "execute_result"
    }
   ],
   "source": [
    "df.dtypes"
   ]
  },
  {
   "cell_type": "code",
   "execution_count": null,
   "id": "c8fb165c-93a8-4990-9dcb-cca518d7ef6e",
   "metadata": {},
   "outputs": [
    {
     "name": "stdout",
     "output_type": "stream",
     "text": [
      "['22' '1203' '1738' '179' '1240' '1236' '677' '6286' '4024' '4625' '165'\n",
      " '4005' '7782' '2854' '903' '3177' '4896' '753' '2267' '1123' '3272' '16'\n",
      " '951' '6791' '82' '1518' '174' '842' '8639' '137' '1714' nan '5890' '72'\n",
      " '1555' '1568' '1018' '2976' '5507' '19' '940' '6858' '1347' '20' '808'\n",
      " '1017' '6269' '354' '5031' '1951' '267' '131' '832' '214' '2709' '3236'\n",
      " '175' '2418' '108' '693' '3779' '7' '11843' '2795' '471' '54' '4493'\n",
      " '1229' '809' '2585' '1011' '2426' '2121' '5955' '5737' '2821' '5284'\n",
      " '5974' '67' '225' '91' '85' '7381' '2626' '2341' '5608' '1391' '185'\n",
      " '248' '548' '89' '3184' '25' '408' '1290' '1378' '7522' '569' '191'\n",
      " '1079' '254' '224' '330' '2596' '142' '10832' '2102' '164' '1107' '5873'\n",
      " '3757' '358' '678' '751' '3' '169' '102' '15' '9195' '627' '128' '375'\n",
      " '21' '5912' '5314' '9' '323' '2' '245' '95' '515' '2530' '419' '1941'\n",
      " '2106' '10' '6' '217' '915' '86' '81' '305' '18' '24' '4859' '167' '795'\n",
      " '58' '31' '53' '14' '4731' '1309' '959' '35' '2062' '1662' '66' '8' '155'\n",
      " '4538' '71' '1520' '4603' '204' '836' '1439' '242' '60' '59' '17' '1517'\n",
      " '610' '222' '1002' '2606' '1' '1504' '4' '218' '140' '27' '706' '765'\n",
      " '43' '227' '40' '149' '538' '391' '5' '117' '168' '190' '32' '107' '489'\n",
      " '12' '73' '343' '13' '262' '425' '34' '38' '1056' '775' '6275' '3900'\n",
      " '327' '1152' '322' '848' '299' '116' '723' '636' '703' '1060' '739' '173'\n",
      " '1066' '602' '51' '895' '748' '11' '30' '62' '2494' '363' '156' '4755'\n",
      " '26' '183' '1362' '158' '4192' '122' '2220' '47' '276' '787' '277' '45'\n",
      " '64' '442' '230' '948' '362' '1495' '1262' '2554' '2370' '268' '512'\n",
      " '695' '2210' '310' '1705' '334' '296' '520' '77' '8778' '1220' '6956'\n",
      " '2419' '780' '263' '2549' '331' '653' '48' '2411' '303' '182' '1461'\n",
      " '638' '237' '746' '598' '2660']\n"
     ]
    }
   ],
   "source": [
    "import numpy as np\n",
    "import pandas as pd\n",
    "\n",
    "# Assuming df is your DataFrame\n",
    "\n",
    "# Replace specific unwanted values with NaN\n",
    "df = df.replace({\n",
    "    'number_of_reviews': {'No': np.nan},\n",
    "    'rating': {'Rating not found': np.nan},\n",
    "    'food': {'Food not found': np.nan},\n",
    "    'service': {'Service not found': np.nan},\n",
    "    'ambience': {'Ambience not found': np.nan},\n",
    "    'value': {'Value not found': np.nan}\n",
    "})\n",
    "\n",
    "# Check for non-numeric values before converting\n",
    "# This is optional, just for debugging\n",
    "print(df['number_of_reviews'].unique())\n",
    "\n",
    "# Convert the columns to float, handle errors\n",
    "df['number_of_reviews'] = pd.to_numeric(df['number_of_reviews'], errors='coerce')\n",
    "df['rating'] = pd.to_numeric(df['rating'], errors='coerce')\n",
    "df['food'] = pd.to_numeric(df['food'], errors='coerce')\n",
    "df['service'] = pd.to_numeric(df['service'], errors='coerce')\n",
    "df['ambience'] = pd.to_numeric(df['ambience'], errors='coerce')\n",
    "df['value'] = pd.to_numeric(df['value'], errors='coerce')\n",
    "\n",
    "# Fill NaN values with 0\n",
    "df = df.fillna(0)\n",
    "\n",
    "# Convert types as required\n",
    "df = df.astype({\n",
    "    'number_of_reviews': 'int',\n",
    "    'rating': 'float',\n",
    "    'food': 'float',\n",
    "    'service': 'float',\n",
    "    'ambience': 'float',\n",
    "    'value': 'float'\n",
    "})\n"
   ]
  },
  {
   "cell_type": "code",
   "execution_count": null,
   "id": "a4a04dbb",
   "metadata": {},
   "outputs": [],
   "source": [
    "print(df['number_of_reviews'].dtype)\n"
   ]
  },
  {
   "cell_type": "code",
   "execution_count": null,
   "id": "417de5a7-9a54-4f18-aaf1-bd8557a5ddcb",
   "metadata": {},
   "outputs": [],
   "source": [
    "# Save the cleaned dataset\n",
    "df.to_csv('USA_CITY_NMAE.csv', index=False)"
   ]
  }
 ],
 "metadata": {
  "kernelspec": {
   "display_name": "Python 3 (ipykernel)",
   "language": "python",
   "name": "python3"
  },
  "language_info": {
   "codemirror_mode": {
    "name": "ipython",
    "version": 3
   },
   "file_extension": ".py",
   "mimetype": "text/x-python",
   "name": "python",
   "nbconvert_exporter": "python",
   "pygments_lexer": "ipython3",
   "version": "3.12.4"
  }
 },
 "nbformat": 4,
 "nbformat_minor": 5
}
