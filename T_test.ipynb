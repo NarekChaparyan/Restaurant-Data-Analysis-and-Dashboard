{
 "cells": [
  {
   "cell_type": "code",
   "execution_count": 2,
   "id": "5c4f0d98-1ee1-420c-bf75-319f49a005c2",
   "metadata": {},
   "outputs": [],
   "source": [
    "import pandas as pd\n",
    "from scipy.stats import ttest_ind"
   ]
  },
  {
   "cell_type": "code",
   "execution_count": 3,
   "id": "3de95794-cf12-4820-9721-f8229dab95c3",
   "metadata": {},
   "outputs": [],
   "source": [
    "\n",
    "\n",
    "# Load your dataset\n",
    "df_chicago = pd.read_csv('~/desktop/Project_7/Chicago.csv')\n",
    "df_san_diego = pd.read_csv('~/desktop/Project_7/San Diego.csv')\n",
    "df_san_francisco = pd.read_csv('~/desktop/Project_7/San Francisco.csv')\n",
    "df_new_york = pd.read_csv('~/desktop/Project_7/New York.csv')\n",
    "df_los_angeles = pd.read_csv('~/desktop/Project_7/Los Angeles.csv')\n",
    "\n"
   ]
  },
  {
   "cell_type": "code",
   "execution_count": 5,
   "id": "b144b16c-e45b-470e-ade4-bd89f9cd096f",
   "metadata": {},
   "outputs": [
    {
     "name": "stdout",
     "output_type": "stream",
     "text": [
      "Number of Italian restaurants: 40\n",
      "Number of American restaurants: 59\n",
      "Average food rating for Italian restaurants: 4.57\n",
      "Average food rating for American restaurants: 4.35\n",
      "T-statistic: 3.36, P-value: 0.0011\n",
      "There is a significant difference in food ratings between Italian and American restaurants.\n"
     ]
    }
   ],
   "source": [
    "# Set significance level\n",
    "alpha = 0.05\n",
    "\n",
    "# Filter data for Italian and American restaurants\n",
    "italian_food = df_san_diego [df_san_diego ['food_type'] == 'Italian']['food']\n",
    "american_food = df_san_diego [df_san_diego ['food_type'] == 'American']['food']\n",
    "\n",
    "# Check the number of restaurants in each group\n",
    "num_italian = italian_food.count()\n",
    "num_american = american_food.count()\n",
    "print(f'Number of Italian restaurants: {num_italian}')\n",
    "print(f'Number of American restaurants: {num_american}')\n",
    "\n",
    "# Calculate the average food ratings\n",
    "avg_italian_food = italian_food.mean()\n",
    "avg_american_food = american_food.mean()\n",
    "print(f'Average food rating for Italian restaurants: {avg_italian_food:.2f}')\n",
    "print(f'Average food rating for American restaurants: {avg_american_food:.2f}')\n",
    "\n",
    "\n",
    "t_stat, p_value = ttest_ind(italian_food, american_food, equal_var=True)\n",
    "\n",
    "\n",
    "# Check significance\n",
    "if p_value < alpha:\n",
    "    result = \"significant\"\n",
    "else:\n",
    "    result = \"not significant\"\n",
    "\n",
    "# Print results\n",
    "print(f'T-statistic: {t_stat:.2f}, P-value: {p_value:.4f}')\n",
    "print(f'There is a {result} difference in food ratings between Italian and American restaurants.')\n"
   ]
  },
  {
   "cell_type": "code",
   "execution_count": 6,
   "id": "58f5491f-a1ac-4ccf-a724-2ea56d693500",
   "metadata": {},
   "outputs": [
    {
     "name": "stdout",
     "output_type": "stream",
     "text": [
      "Number of restaurants with high reviews (>500): 153\n",
      "Number of restaurants with low reviews (<=500): 168\n",
      "Average ambience for restaurants with high reviews (>500): 4.48\n",
      "Average ambience for restaurants with low reviews (<=500): 4.34\n",
      "T-statistic: 4.3463, P-value: 0.00001864\n",
      "The difference in ambience ratings is significant.\n"
     ]
    }
   ],
   "source": [
    "#Statistical Comparison of Ambience Ratings Based on Review Counts\n",
    "\n",
    "# Create two groups based on review count\n",
    "high_reviews = df_chicago[df_chicago['number_of_reviews'] > 500]['ambience']\n",
    "low_reviews = df_chicago[df_chicago['number_of_reviews'] <= 500]['ambience']\n",
    "\n",
    "# Count the number of restaurants in each group\n",
    "count_high_reviews = high_reviews.count()\n",
    "count_low_reviews = low_reviews.count()\n",
    "print(f'Number of restaurants with high reviews (>500): {count_high_reviews}')\n",
    "print(f'Number of restaurants with low reviews (<=500): {count_low_reviews}')\n",
    "\n",
    "# Calculate the average ambience for each group\n",
    "avg_high_reviews = high_reviews.mean()\n",
    "avg_low_reviews = low_reviews.mean()\n",
    "\n",
    "# Print the average ambience scores\n",
    "print(f'Average ambience for restaurants with high reviews (>500): {avg_high_reviews:.2f}')\n",
    "print(f'Average ambience for restaurants with low reviews (<=500): {avg_low_reviews:.2f}')\n",
    "\n",
    "# Perform the t-test\n",
    "t_stat, p_value = ttest_ind(high_reviews, low_reviews, equal_var=True)\n",
    "\n",
    "# Check for significance\n",
    "if p_value < alpha:\n",
    "    significance = \"significant\"\n",
    "else:\n",
    "    significance = \"not significant\"\n",
    "    \n",
    "# Print the t-test results\n",
    "print(f'T-statistic: {t_stat:.4f}, P-value: {p_value:.8f}')\n",
    "print(f'The difference in ambience ratings is {significance}.')\n",
    "\n"
   ]
  },
  {
   "cell_type": "code",
   "execution_count": 7,
   "id": "caa8ae64-52ce-43d4-a12e-bdaf871cbb16",
   "metadata": {},
   "outputs": [
    {
     "name": "stdout",
     "output_type": "stream",
     "text": [
      "Number of restaurants with high ambience (> 4.5): 128\n",
      "Number of restaurants with low ambience (<= 4.5): 193\n",
      "Average value for restaurants with high ambience: 4.38\n",
      "Average value for restaurants with low ambience: 4.00\n",
      "T-statistic: 7.36, P-value: 0.00000000\n"
     ]
    }
   ],
   "source": [
    "# Comparative Analysis of Restaurant Value Based on Ambience Ratings\n",
    "high_ambience_value = df_chicago[df_chicago['ambience'] > 4.5]['value']\n",
    "low_ambience_value = df_chicago[df_chicago['ambience'] <= 4.5]['value']\n",
    "\n",
    "# Calculate the average and median value for each group\n",
    "avg_high_ambience_value = high_ambience_value.mean()\n",
    "avg_low_ambience_value = low_ambience_value.mean()\n",
    "\n",
    "# Print the counts and averages\n",
    "print(f'Number of restaurants with high ambience (> 4.5): {high_ambience_value.count()}')\n",
    "print(f'Number of restaurants with low ambience (<= 4.5): {low_ambience_value.count()}')\n",
    "print(f'Average value for restaurants with high ambience: {avg_high_ambience_value:.2f}')\n",
    "print(f'Average value for restaurants with low ambience: {avg_low_ambience_value:.2f}')\n",
    "\n",
    "# Perform the t-test\n",
    "t_stat, p_value = ttest_ind(high_ambience_value, low_ambience_value, equal_var=True)\n",
    "\n",
    "# Print the t-test results\n",
    "print(f'T-statistic: {t_stat:.2f}, P-value: {p_value:.8f}')\n"
   ]
  },
  {
   "cell_type": "code",
   "execution_count": 36,
   "id": "4a6f0f41-e1e9-4f83-aeb6-f8cb52d4b783",
   "metadata": {},
   "outputs": [
    {
     "name": "stdout",
     "output_type": "stream",
     "text": [
      "Average service rating for San Diego: 4.45\n",
      "Average service rating for San Francisco: 4.51\n",
      "T-statistic: -2.5455\n",
      "P-value: 0.0110\n"
     ]
    }
   ],
   "source": [
    "# Extract service columns for San Diego and San Francisco\n",
    "sd_service = df_san_diego['service']\n",
    "sf_service = df_san_francisco['service']\n",
    "\n",
    "# Calculate the average service ratings\n",
    "avg_sd_service = sd_service.mean()\n",
    "avg_sf_service = sf_service.mean()\n",
    "\n",
    "# Perform t-test\n",
    "t_stat, p_value = ttest_ind(sd_service, sf_service, equal_var=True)\n",
    "\n",
    "# Print results\n",
    "print(f\"Average service rating for San Diego: {avg_sd_service:.2f}\")\n",
    "print(f\"Average service rating for San Francisco: {avg_sf_service:.2f}\")\n",
    "print(f\"T-statistic: {t_stat:.4f}\")\n",
    "print(f\"P-value: {p_value:.4f}\")\n"
   ]
  },
  {
   "cell_type": "code",
   "execution_count": 43,
   "id": "d53898b3-373a-41c5-9c08-195e06c98d1b",
   "metadata": {},
   "outputs": [
    {
     "name": "stdout",
     "output_type": "stream",
     "text": [
      "Average service rating for New York: 4.55\n",
      "Average service rating for Los Angeles: 4.59\n",
      "T-statistic: -1.9190\n",
      "P-value: 0.0555\n"
     ]
    }
   ],
   "source": [
    "# Extract rating columns for New York and Los Angeles\n",
    "ny_rating = df_new_york['rating']\n",
    "la_rating = df_los_angeles['rating']\n",
    "\n",
    "# Calculate the average service ratings\n",
    "avg_ny_rating  = sd_service.mean()\n",
    "avg_la_rating  = sf_service.mean()\n",
    "\n",
    "# Perform t-test\n",
    "t_stat, p_value = ttest_ind(ny_rating , la_rating , equal_var=True)\n",
    "\n",
    "# Print results\n",
    "print(f\"Average service rating for New York: {avg_ny_rating :.2f}\")\n",
    "print(f\"Average service rating for Los Angeles: {avg_la_rating :.2f}\")\n",
    "print(f\"T-statistic: {t_stat:.4f}\")\n",
    "print(f\"P-value: {p_value:.4f}\")\n"
   ]
  },
  {
   "cell_type": "code",
   "execution_count": 50,
   "id": "141ad929-23a5-4f5d-855e-48ce3a63224a",
   "metadata": {},
   "outputs": [
    {
     "name": "stdout",
     "output_type": "stream",
     "text": [
      "Average service rating for San Francisco: 4.53\n",
      "Average service rating for San Diego: 4.45\n",
      "T-statistic: 3.657606888653669 P-value: 0.0002664359593113553\n"
     ]
    }
   ],
   "source": [
    "# Extract rating columns for San Francisco and San Diego\n",
    "sf_rating = df_san_francisco['rating']\n",
    "sd_rating = df_san_diego['rating']\n",
    "\n",
    "# Calculate the average ratings\n",
    "avg_sf_rating  = sf_rating .mean()\n",
    "avg_sd_rating  = sd_rating .mean()\n",
    "\n",
    "t_stat, p_value = ttest_ind(sf_rating, sd_rating, equal_var=True)\n",
    "print(f\"Average service rating for San Francisco: {avg_sf_rating:.2f}\")\n",
    "print(f\"Average service rating for San Diego: {avg_sd_rating:.2f}\")\n",
    "print(\"T-statistic:\", t_stat, \"P-value:\", p_value)\n"
   ]
  },
  {
   "cell_type": "code",
   "execution_count": 61,
   "id": "57c8dfbf-b510-4acb-92c9-d09e4512a56a",
   "metadata": {},
   "outputs": [
    {
     "name": "stdout",
     "output_type": "stream",
     "text": [
      "T-statistic: 9.28\n",
      "P-value: 1.450348639760867e-16\n",
      "Average Food Rating (High Ambience): 4.55\n",
      "Average Food Rating (Low Ambience): 4.20\n"
     ]
    }
   ],
   "source": [
    "\n",
    "# Filter the food ratings based on ambience\n",
    "high_ambience_food = df_san_diego[df_san_diego['ambience'] >= 4.5]['food']\n",
    "low_ambience_food = df_san_diego[df_san_diego['ambience'] < 4.5]['food']\n",
    "\n",
    "# Perform the t-test\n",
    "t_stat, p_value = ttest_ind(high_ambience_food, low_ambience_food, equal_var=False)\n",
    "\n",
    "# Calculate averages\n",
    "high_ambience_avg = high_ambience_food.mean()\n",
    "low_ambience_avg = low_ambience_food.mean()\n",
    "\n",
    "# Print results with formatting to two decimal places\n",
    "print(f\"T-statistic: {t_stat:.2f}\")\n",
    "print(f\"P-value: {p_value:}\")\n",
    "print(f\"Average Food Rating (High Ambience): {high_ambience_avg:.2f}\")\n",
    "print(f\"Average Food Rating (Low Ambience): {low_ambience_avg:.2f}\")\n"
   ]
  },
  {
   "cell_type": "code",
   "execution_count": 63,
   "id": "ed216dab-f3c7-4156-b30b-215213a0b2f7",
   "metadata": {},
   "outputs": [
    {
     "name": "stdout",
     "output_type": "stream",
     "text": [
      "T-Statistic: 24.564624713606406\n",
      "P-Value: 1.0285657523119223e-75\n",
      "The average rating is significantly different from 4.0.\n"
     ]
    }
   ],
   "source": [
    "from scipy import stats\n",
    "import pandas as pd\n",
    "\n",
    "# Sample DataFrame (replace this with your actual DataFrame)\n",
    "# df = pd.read_csv('your_data_file.csv')\n",
    "\n",
    "# Extract the ratings column\n",
    "ratings = df_chicago['rating']\n",
    "\n",
    "# Perform one-sample t-test against the population mean of 4.0\n",
    "t_statistic, p_value = stats.ttest_1samp(ratings, 4.0)\n",
    "\n",
    "# Print the results\n",
    "print(\"T-Statistic:\", t_statistic)\n",
    "print(\"P-Value:\", p_value)\n",
    "\n",
    "# Interpretation\n",
    "if p_value < 0.05:\n",
    "    print(\"The average rating is significantly different from 4.0.\")\n",
    "else:\n",
    "    print(\"The average rating is not significantly different from 4.0.\")\n"
   ]
  },
  {
   "cell_type": "code",
   "execution_count": null,
   "id": "0fc224de-446d-47f0-8981-89ef363c1e36",
   "metadata": {},
   "outputs": [],
   "source": []
  }
 ],
 "metadata": {
  "kernelspec": {
   "display_name": "venv",
   "language": "python",
   "name": "venv"
  },
  "language_info": {
   "codemirror_mode": {
    "name": "ipython",
    "version": 3
   },
   "file_extension": ".py",
   "mimetype": "text/x-python",
   "name": "python",
   "nbconvert_exporter": "python",
   "pygments_lexer": "ipython3",
   "version": "3.12.4"
  }
 },
 "nbformat": 4,
 "nbformat_minor": 5
}
